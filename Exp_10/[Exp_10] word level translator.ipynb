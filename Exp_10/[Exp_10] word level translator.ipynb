{
 "cells": [
  {
   "cell_type": "code",
   "execution_count": 1,
   "id": "eacd465d",
   "metadata": {},
   "outputs": [],
   "source": [
    "import pandas as pd\n",
    "from tensorflow.keras.preprocessing.text import Tokenizer\n",
    "from tensorflow.keras.preprocessing.sequence import pad_sequences\n",
    "from tensorflow.keras.utils import to_categorical\n",
    "import numpy as np"
   ]
  },
  {
   "cell_type": "code",
   "execution_count": 2,
   "id": "fc1f4fba",
   "metadata": {},
   "outputs": [
    {
     "name": "stdout",
     "output_type": "stream",
     "text": [
      "전체 샘플의 수 : 197463\n"
     ]
    },
    {
     "data": {
      "text/html": [
       "<div>\n",
       "<style scoped>\n",
       "    .dataframe tbody tr th:only-of-type {\n",
       "        vertical-align: middle;\n",
       "    }\n",
       "\n",
       "    .dataframe tbody tr th {\n",
       "        vertical-align: top;\n",
       "    }\n",
       "\n",
       "    .dataframe thead th {\n",
       "        text-align: right;\n",
       "    }\n",
       "</style>\n",
       "<table border=\"1\" class=\"dataframe\">\n",
       "  <thead>\n",
       "    <tr style=\"text-align: right;\">\n",
       "      <th></th>\n",
       "      <th>eng</th>\n",
       "      <th>fra</th>\n",
       "      <th>cc</th>\n",
       "    </tr>\n",
       "  </thead>\n",
       "  <tbody>\n",
       "    <tr>\n",
       "      <th>129742</th>\n",
       "      <td>I don't really feel like reading.</td>\n",
       "      <td>Je ne suis pas vraiment d'humeur à lire.</td>\n",
       "      <td>CC-BY 2.0 (France) Attribution: tatoeba.org #2...</td>\n",
       "    </tr>\n",
       "    <tr>\n",
       "      <th>157924</th>\n",
       "      <td>Feeling the house shake, I ran outside.</td>\n",
       "      <td>Sentant la maison bouger, je suis sorti dehors...</td>\n",
       "      <td>CC-BY 2.0 (France) Attribution: tatoeba.org #2...</td>\n",
       "    </tr>\n",
       "    <tr>\n",
       "      <th>147792</th>\n",
       "      <td>The basketball needs to be inflated.</td>\n",
       "      <td>Le ballon de basket a besoin d'être gonflé.</td>\n",
       "      <td>CC-BY 2.0 (France) Attribution: tatoeba.org #5...</td>\n",
       "    </tr>\n",
       "    <tr>\n",
       "      <th>165979</th>\n",
       "      <td>I want to give you the chance to do that.</td>\n",
       "      <td>Je veux te procurer l'occasion de faire ça.</td>\n",
       "      <td>CC-BY 2.0 (France) Attribution: tatoeba.org #2...</td>\n",
       "    </tr>\n",
       "    <tr>\n",
       "      <th>141900</th>\n",
       "      <td>I'm not mentally prepared for that.</td>\n",
       "      <td>Je ne suis pas mentalement préparé à cela.</td>\n",
       "      <td>CC-BY 2.0 (France) Attribution: tatoeba.org #6...</td>\n",
       "    </tr>\n",
       "  </tbody>\n",
       "</table>\n",
       "</div>"
      ],
      "text/plain": [
       "                                              eng  \\\n",
       "129742          I don't really feel like reading.   \n",
       "157924    Feeling the house shake, I ran outside.   \n",
       "147792       The basketball needs to be inflated.   \n",
       "165979  I want to give you the chance to do that.   \n",
       "141900        I'm not mentally prepared for that.   \n",
       "\n",
       "                                                      fra  \\\n",
       "129742           Je ne suis pas vraiment d'humeur à lire.   \n",
       "157924  Sentant la maison bouger, je suis sorti dehors...   \n",
       "147792        Le ballon de basket a besoin d'être gonflé.   \n",
       "165979        Je veux te procurer l'occasion de faire ça.   \n",
       "141900         Je ne suis pas mentalement préparé à cela.   \n",
       "\n",
       "                                                       cc  \n",
       "129742  CC-BY 2.0 (France) Attribution: tatoeba.org #2...  \n",
       "157924  CC-BY 2.0 (France) Attribution: tatoeba.org #2...  \n",
       "147792  CC-BY 2.0 (France) Attribution: tatoeba.org #5...  \n",
       "165979  CC-BY 2.0 (France) Attribution: tatoeba.org #2...  \n",
       "141900  CC-BY 2.0 (France) Attribution: tatoeba.org #6...  "
      ]
     },
     "execution_count": 2,
     "metadata": {},
     "output_type": "execute_result"
    }
   ],
   "source": [
    "import os\n",
    "file_path = os.getenv('HOME')+'/aiffel/translator_seq2seq/data/fra.txt'\n",
    "lines = pd.read_csv(file_path, names=['eng', 'fra', 'cc'], sep='\\t')\n",
    "print('전체 샘플의 수 :',len(lines))\n",
    "lines.sample(5) #샘플 5개 출력"
   ]
  },
  {
   "cell_type": "code",
   "execution_count": 3,
   "id": "78e46887",
   "metadata": {},
   "outputs": [
    {
     "data": {
      "text/html": [
       "<div>\n",
       "<style scoped>\n",
       "    .dataframe tbody tr th:only-of-type {\n",
       "        vertical-align: middle;\n",
       "    }\n",
       "\n",
       "    .dataframe tbody tr th {\n",
       "        vertical-align: top;\n",
       "    }\n",
       "\n",
       "    .dataframe thead th {\n",
       "        text-align: right;\n",
       "    }\n",
       "</style>\n",
       "<table border=\"1\" class=\"dataframe\">\n",
       "  <thead>\n",
       "    <tr style=\"text-align: right;\">\n",
       "      <th></th>\n",
       "      <th>eng</th>\n",
       "      <th>fra</th>\n",
       "    </tr>\n",
       "  </thead>\n",
       "  <tbody>\n",
       "    <tr>\n",
       "      <th>20275</th>\n",
       "      <td>She disliked him.</td>\n",
       "      <td>Elle ne l'aimait pas.</td>\n",
       "    </tr>\n",
       "    <tr>\n",
       "      <th>26256</th>\n",
       "      <td>They look healthy.</td>\n",
       "      <td>Ils ont l'air en bonne santé.</td>\n",
       "    </tr>\n",
       "    <tr>\n",
       "      <th>31840</th>\n",
       "      <td>That sounds stupid.</td>\n",
       "      <td>Ça a l'air stupide.</td>\n",
       "    </tr>\n",
       "    <tr>\n",
       "      <th>3845</th>\n",
       "      <td>Take a seat.</td>\n",
       "      <td>Assieds-toi !</td>\n",
       "    </tr>\n",
       "    <tr>\n",
       "      <th>20342</th>\n",
       "      <td>Show us the room.</td>\n",
       "      <td>Montre-nous la chambre.</td>\n",
       "    </tr>\n",
       "  </tbody>\n",
       "</table>\n",
       "</div>"
      ],
      "text/plain": [
       "                       eng                            fra\n",
       "20275    She disliked him.          Elle ne l'aimait pas.\n",
       "26256   They look healthy.  Ils ont l'air en bonne santé.\n",
       "31840  That sounds stupid.            Ça a l'air stupide.\n",
       "3845          Take a seat.                  Assieds-toi !\n",
       "20342    Show us the room.        Montre-nous la chambre."
      ]
     },
     "execution_count": 3,
     "metadata": {},
     "output_type": "execute_result"
    }
   ],
   "source": [
    "lines = lines[['eng', 'fra']][:33000] # 33000개 샘플 사용\n",
    "lines.sample(5)"
   ]
  },
  {
   "cell_type": "markdown",
   "id": "af130a1c",
   "metadata": {},
   "source": [
    "Step 1. 정제, 정규화, 전처리"
   ]
  },
  {
   "cell_type": "markdown",
   "id": "e9782ee5",
   "metadata": {},
   "source": [
    "1. 구두점(Punctuation)을 단어와 분리"
   ]
  },
  {
   "cell_type": "code",
   "execution_count": 4,
   "id": "a0936358",
   "metadata": {},
   "outputs": [
    {
     "name": "stdout",
     "output_type": "stream",
     "text": [
      "!\"#$%&'()*+,-./:;<=>?@[\\]^_`{|}~\n"
     ]
    }
   ],
   "source": [
    "import string # 구두점 정규화 표현식\n",
    "print(string.punctuation)"
   ]
  },
  {
   "cell_type": "code",
   "execution_count": 5,
   "id": "6dbefe1c",
   "metadata": {},
   "outputs": [],
   "source": [
    "puctuation = r'[\\!\\\"\\#\\$\\%\\&\\(\\)\\*\\+\\,\\-\\.\\/\\:\\;\\<\\=\\>\\?\\@\\[\\\\\\]\\^\\_\\`\\{\\|\\}\\~]'\n",
    "lines[\"eng\"] = lines[\"eng\"].str.replace(puctuation, r' \\g<0> ', regex=True)"
   ]
  },
  {
   "cell_type": "markdown",
   "id": "0e6120a0",
   "metadata": {},
   "source": [
    "2. 띄어쓰기 단위로 토큰화 + 소문자로 바꾸기"
   ]
  },
  {
   "cell_type": "code",
   "execution_count": 6,
   "id": "3b42d08d",
   "metadata": {},
   "outputs": [
    {
     "data": {
      "text/plain": [
       "[[25, 1], [25, 1], [25, 1], [25, 1], [783, 1]]"
      ]
     },
     "execution_count": 6,
     "metadata": {},
     "output_type": "execute_result"
    }
   ],
   "source": [
    "eng_tokenizer = Tokenizer(lower=True, split = ' ', filters='\\t\\n')\n",
    "eng_tokenizer.fit_on_texts(lines.eng)               # 33000개의 행을 가진 eng의 각 행에 토큰화를 수행\n",
    "input_text = eng_tokenizer.texts_to_sequences(lines.eng)    # 단어를 숫자값 인덱스로 변환하여 저장\n",
    "input_text[:5]"
   ]
  },
  {
   "cell_type": "code",
   "execution_count": 7,
   "id": "c01cdfef",
   "metadata": {},
   "outputs": [
    {
     "data": {
      "text/plain": [
       "\"Don't touch this ! \""
      ]
     },
     "execution_count": 7,
     "metadata": {},
     "output_type": "execute_result"
    }
   ],
   "source": [
    "lines.eng[17808]"
   ]
  },
  {
   "cell_type": "code",
   "execution_count": 8,
   "id": "3099a6f4",
   "metadata": {
    "scrolled": true
   },
   "outputs": [
    {
     "data": {
      "text/plain": [
       "[28, 359, 14, 20]"
      ]
     },
     "execution_count": 8,
     "metadata": {},
     "output_type": "execute_result"
    }
   ],
   "source": [
    "input_text[17808]"
   ]
  },
  {
   "cell_type": "code",
   "execution_count": 9,
   "id": "e5cb2f98",
   "metadata": {},
   "outputs": [
    {
     "data": {
      "text/plain": [
       "\"don't touch this !\""
      ]
     },
     "execution_count": 9,
     "metadata": {},
     "output_type": "execute_result"
    }
   ],
   "source": [
    "decode = eng_tokenizer.sequences_to_texts(input_text)\n",
    "decode[17808]"
   ]
  },
  {
   "cell_type": "code",
   "execution_count": 10,
   "id": "e4d87cbc",
   "metadata": {},
   "outputs": [],
   "source": [
    "# eng_tokenizer.word_docs"
   ]
  },
  {
   "cell_type": "markdown",
   "id": "b301f98e",
   "metadata": {},
   "source": [
    "Step 2. 디코더의 문장에 시작 토큰과 종료 토큰 추가"
   ]
  },
  {
   "cell_type": "code",
   "execution_count": 11,
   "id": "6f881741",
   "metadata": {},
   "outputs": [
    {
     "data": {
      "text/html": [
       "<div>\n",
       "<style scoped>\n",
       "    .dataframe tbody tr th:only-of-type {\n",
       "        vertical-align: middle;\n",
       "    }\n",
       "\n",
       "    .dataframe tbody tr th {\n",
       "        vertical-align: top;\n",
       "    }\n",
       "\n",
       "    .dataframe thead th {\n",
       "        text-align: right;\n",
       "    }\n",
       "</style>\n",
       "<table border=\"1\" class=\"dataframe\">\n",
       "  <thead>\n",
       "    <tr style=\"text-align: right;\">\n",
       "      <th></th>\n",
       "      <th>eng</th>\n",
       "      <th>fra</th>\n",
       "    </tr>\n",
       "  </thead>\n",
       "  <tbody>\n",
       "    <tr>\n",
       "      <th>9686</th>\n",
       "      <td>Buy me a drink .</td>\n",
       "      <td>\\t Offrez-moi un verre ! \\n</td>\n",
       "    </tr>\n",
       "    <tr>\n",
       "      <th>15048</th>\n",
       "      <td>It was too hard .</td>\n",
       "      <td>\\t C'était trop difficile. \\n</td>\n",
       "    </tr>\n",
       "    <tr>\n",
       "      <th>24249</th>\n",
       "      <td>I need more power .</td>\n",
       "      <td>\\t J'ai besoin de plus d'électricité. \\n</td>\n",
       "    </tr>\n",
       "    <tr>\n",
       "      <th>13752</th>\n",
       "      <td>He sells whisky .</td>\n",
       "      <td>\\t Il vend du whisky. \\n</td>\n",
       "    </tr>\n",
       "    <tr>\n",
       "      <th>32973</th>\n",
       "      <td>Was it interesting ?</td>\n",
       "      <td>\\t Était-ce intéressant ? \\n</td>\n",
       "    </tr>\n",
       "  </tbody>\n",
       "</table>\n",
       "</div>"
      ],
      "text/plain": [
       "                         eng                                       fra\n",
       "9686       Buy me a drink .                \\t Offrez-moi un verre ! \\n\n",
       "15048     It was too hard .              \\t C'était trop difficile. \\n\n",
       "24249   I need more power .   \\t J'ai besoin de plus d'électricité. \\n\n",
       "13752     He sells whisky .                   \\t Il vend du whisky. \\n\n",
       "32973  Was it interesting ?               \\t Était-ce intéressant ? \\n"
      ]
     },
     "execution_count": 11,
     "metadata": {},
     "output_type": "execute_result"
    }
   ],
   "source": [
    "sos_token = '\\t'\n",
    "eos_token = '\\n'\n",
    "lines.fra = lines.fra.apply(lambda x : '\\t '+ x + ' \\n')\n",
    "lines.sample(5)"
   ]
  },
  {
   "cell_type": "markdown",
   "id": "b72c54b0",
   "metadata": {},
   "source": [
    "Step 3. 케라스의 토크나이저로 텍스트를 숫자로 바꾸기"
   ]
  },
  {
   "cell_type": "code",
   "execution_count": 12,
   "id": "d4f6d2c3",
   "metadata": {},
   "outputs": [],
   "source": [
    "puctuation = r'[\\!\\\"\\#\\$\\%\\&\\(\\)\\*\\+\\,\\-\\.\\/\\:\\;\\<\\=\\>\\?\\@\\[\\\\\\]\\^\\_\\`\\{\\|\\}\\~]'\n",
    "lines[\"fra\"] = lines[\"fra\"].str.replace(puctuation, r' \\g<0> ', regex=True)"
   ]
  },
  {
   "cell_type": "code",
   "execution_count": 13,
   "id": "255269f6",
   "metadata": {},
   "outputs": [
    {
     "data": {
      "text/plain": [
       "[[1, 64, 8, 2],\n",
       " [1, 356, 3, 2],\n",
       " [1, 26, 504, 8, 2],\n",
       " [1, 735, 8, 2],\n",
       " [1, 781, 8, 2]]"
      ]
     },
     "execution_count": 13,
     "metadata": {},
     "output_type": "execute_result"
    }
   ],
   "source": [
    "fra_tokenizer = Tokenizer(lower=True,\n",
    "                          split = ' ',\n",
    "                          filters='')\n",
    "fra_tokenizer.fit_on_texts(lines.fra)                 # 33000개의 행을 가진 fra의 각 행에 토큰화를 수행\n",
    "target_text = fra_tokenizer.texts_to_sequences(lines.fra)     # 단어를 숫자값 인덱스로 변환하여 저장\n",
    "target_text[:5]"
   ]
  },
  {
   "cell_type": "code",
   "execution_count": 14,
   "id": "bd2ba400",
   "metadata": {},
   "outputs": [
    {
     "data": {
      "text/plain": [
       "'\\t Achetez - la  !  \\n'"
      ]
     },
     "execution_count": 14,
     "metadata": {},
     "output_type": "execute_result"
    }
   ],
   "source": [
    "lines['fra'][79]"
   ]
  },
  {
   "cell_type": "code",
   "execution_count": 15,
   "id": "fecbbbdf",
   "metadata": {},
   "outputs": [
    {
     "data": {
      "text/plain": [
       "[1, 2302, 5, 20, 8, 2]"
      ]
     },
     "execution_count": 15,
     "metadata": {},
     "output_type": "execute_result"
    }
   ],
   "source": [
    "target_text[79]"
   ]
  },
  {
   "cell_type": "code",
   "execution_count": 16,
   "id": "b6976866",
   "metadata": {},
   "outputs": [
    {
     "data": {
      "text/plain": [
       "'\\t achetez - la ! \\n'"
      ]
     },
     "execution_count": 16,
     "metadata": {},
     "output_type": "execute_result"
    }
   ],
   "source": [
    "sequnces2texts = fra_tokenizer.sequences_to_texts(target_text)\n",
    "sequnces2texts[79]"
   ]
  },
  {
   "cell_type": "code",
   "execution_count": 17,
   "id": "9b660be3",
   "metadata": {},
   "outputs": [
    {
     "name": "stdout",
     "output_type": "stream",
     "text": [
      "영어 단어장의 크기 : 4810\n",
      "프랑스어 단어장의 크기 : 10021\n"
     ]
    }
   ],
   "source": [
    "eng_vocab_size = len(eng_tokenizer.word_index) + 1\n",
    "fra_vocab_size = len(fra_tokenizer.word_index) + 1\n",
    "print('영어 단어장의 크기 :', eng_vocab_size)\n",
    "print('프랑스어 단어장의 크기 :', fra_vocab_size)"
   ]
  },
  {
   "cell_type": "code",
   "execution_count": 18,
   "id": "4b5ca764",
   "metadata": {},
   "outputs": [
    {
     "name": "stdout",
     "output_type": "stream",
     "text": [
      "영어 시퀀스의 최대 길이 8\n",
      "프랑스어 시퀀스의 최대 길이 16\n"
     ]
    }
   ],
   "source": [
    "max_eng_seq_len = max([len(line) for line in input_text])\n",
    "max_fra_seq_len = max([len(line) for line in target_text])\n",
    "print('영어 시퀀스의 최대 길이', max_eng_seq_len)\n",
    "print('프랑스어 시퀀스의 최대 길이', max_fra_seq_len)"
   ]
  },
  {
   "cell_type": "code",
   "execution_count": 19,
   "id": "ca3b311b",
   "metadata": {},
   "outputs": [
    {
     "name": "stdout",
     "output_type": "stream",
     "text": [
      "전체 샘플의 수 : 33000\n",
      "영어 단어장의 크기 : 4810\n",
      "프랑스어 단어장의 크기 : 10021\n",
      "영어 시퀀스의 최대 길이 8\n",
      "프랑스어 시퀀스의 최대 길이 16\n"
     ]
    }
   ],
   "source": [
    "print('전체 샘플의 수 :',len(lines))\n",
    "print('영어 단어장의 크기 :', eng_vocab_size)\n",
    "print('프랑스어 단어장의 크기 :', fra_vocab_size)\n",
    "print('영어 시퀀스의 최대 길이', max_eng_seq_len)\n",
    "print('프랑스어 시퀀스의 최대 길이', max_fra_seq_len)"
   ]
  },
  {
   "cell_type": "code",
   "execution_count": 20,
   "id": "d71bcc32",
   "metadata": {},
   "outputs": [],
   "source": [
    "encoder_input = input_text\n",
    "# 종료 토큰 제거\n",
    "decoder_input = [[ char for char in line if char != fra_tokenizer.word_index[eos_token] ] for line in target_text] \n",
    "# 시작 토큰 제거\n",
    "decoder_target = [[ char for char in line if char != fra_tokenizer.word_index[sos_token] ] for line in target_text]"
   ]
  },
  {
   "cell_type": "code",
   "execution_count": 21,
   "id": "514dd307",
   "metadata": {},
   "outputs": [
    {
     "name": "stdout",
     "output_type": "stream",
     "text": [
      "[[1, 64, 8], [1, 356, 3], [1, 26, 504, 8]]\n",
      "[[64, 8, 2], [356, 3, 2], [26, 504, 8, 2]]\n"
     ]
    }
   ],
   "source": [
    "print(decoder_input[:3])\n",
    "print(decoder_target[:3])"
   ]
  },
  {
   "cell_type": "code",
   "execution_count": 22,
   "id": "34b89a2a",
   "metadata": {},
   "outputs": [
    {
     "name": "stdout",
     "output_type": "stream",
     "text": [
      "영어 데이터의 크기(shape) : (33000, 8)\n",
      "프랑스어 입력데이터의 크기(shape) : (33000, 16)\n",
      "프랑스어 출력데이터의 크기(shape) : (33000, 16)\n"
     ]
    }
   ],
   "source": [
    "encoder_input = pad_sequences(encoder_input, maxlen = max_eng_seq_len, padding='post')\n",
    "decoder_input = pad_sequences(decoder_input, maxlen = max_fra_seq_len, padding='post')\n",
    "decoder_target = pad_sequences(decoder_target, maxlen = max_fra_seq_len, padding='post')\n",
    "print('영어 데이터의 크기(shape) :',np.shape(encoder_input))\n",
    "print('프랑스어 입력데이터의 크기(shape) :',np.shape(decoder_input))\n",
    "print('프랑스어 출력데이터의 크기(shape) :',np.shape(decoder_target))"
   ]
  },
  {
   "cell_type": "code",
   "execution_count": 23,
   "id": "ddd3c798",
   "metadata": {},
   "outputs": [
    {
     "name": "stdout",
     "output_type": "stream",
     "text": [
      "[25  1  0  0  0  0  0  0]\n"
     ]
    }
   ],
   "source": [
    "print(encoder_input[0])"
   ]
  },
  {
   "cell_type": "code",
   "execution_count": 24,
   "id": "7ede93b2",
   "metadata": {},
   "outputs": [],
   "source": [
    "# encoder_input = to_categorical(encoder_input)\n",
    "# decoder_input = to_categorical(decoder_input)\n",
    "# decoder_target = to_categorical(decoder_target)\n",
    "# print('영어 데이터의 크기(shape) :',np.shape(encoder_input))\n",
    "# print('프랑스어 입력데이터의 크기(shape) :',np.shape(decoder_input))\n",
    "# print('프랑스어 출력데이터의 크기(shape) :',np.shape(decoder_target))"
   ]
  },
  {
   "cell_type": "code",
   "execution_count": 25,
   "id": "5d884f65",
   "metadata": {},
   "outputs": [
    {
     "name": "stdout",
     "output_type": "stream",
     "text": [
      "영어 학습데이터의 크기(shape) : (33000, 8)\n",
      "프랑스어 학습 입력데이터의 크기(shape) : (33000, 16)\n",
      "프랑스어 학습 출력데이터의 크기(shape) : (33000, 16)\n"
     ]
    }
   ],
   "source": [
    "n_of_val = 3000\n",
    "\n",
    "encoder_input_train = encoder_input[:-n_of_val]\n",
    "decoder_input_train = decoder_input[:-n_of_val]\n",
    "decoder_target_train = decoder_target[:-n_of_val]\n",
    "\n",
    "encoder_input_test = encoder_input[-n_of_val:]\n",
    "decoder_input_test = decoder_input[-n_of_val:]\n",
    "decoder_target_test = decoder_target[-n_of_val:]\n",
    "\n",
    "print('영어 학습데이터의 크기(shape) :',np.shape(encoder_input))\n",
    "print('프랑스어 학습 입력데이터의 크기(shape) :',np.shape(decoder_input))\n",
    "print('프랑스어 학습 출력데이터의 크기(shape) :',np.shape(decoder_target))"
   ]
  },
  {
   "cell_type": "markdown",
   "id": "48c2c9fb",
   "metadata": {},
   "source": [
    "Step 4. 임베딩 층(Embedding layer) 사용하기"
   ]
  },
  {
   "cell_type": "code",
   "execution_count": 26,
   "id": "3ea25c0e",
   "metadata": {},
   "outputs": [],
   "source": [
    "from tensorflow.keras.layers import Input, LSTM, Embedding, Masking, Dense\n",
    "\n",
    "# 인코더\n",
    "encoder_inputs = Input(shape=(None,))\n",
    "enc_emb =  Embedding(eng_vocab_size, 128)(encoder_inputs)\n",
    "encoder_lstm = LSTM(256, return_state=True)\n",
    "encoder_outputs, state_h, state_c = encoder_lstm(enc_emb)\n",
    "encoder_states = [state_h, state_c]"
   ]
  },
  {
   "cell_type": "code",
   "execution_count": 27,
   "id": "cf5e2194",
   "metadata": {},
   "outputs": [],
   "source": [
    "# 디코더\n",
    "decoder_inputs = Input(shape=(None,))\n",
    "dec_emb =  Embedding(fra_vocab_size, 128)(decoder_inputs)\n",
    "decoder_lstm = LSTM(256, return_sequences=True, return_state=True)\n",
    "decoder_outputs, _, _ = decoder_lstm(dec_emb, initial_state = encoder_states)"
   ]
  },
  {
   "cell_type": "code",
   "execution_count": 28,
   "id": "ab138f4e",
   "metadata": {},
   "outputs": [],
   "source": [
    "import keras\n",
    "decoder_dropout = keras.layers.Dropout(0.5)(decoder_outputs)\n",
    "decoder_batchnorm = keras.layers.LayerNormalization()(decoder_outputs)\n",
    "decoder_softmax_layer = Dense(fra_vocab_size, activation='softmax')\n",
    "decoder_outputs = decoder_softmax_layer(decoder_outputs)"
   ]
  },
  {
   "cell_type": "markdown",
   "id": "6dfff1e4",
   "metadata": {},
   "source": [
    "Step 5. 모델 구현하기"
   ]
  },
  {
   "cell_type": "code",
   "execution_count": 29,
   "id": "9e94adea",
   "metadata": {},
   "outputs": [
    {
     "name": "stdout",
     "output_type": "stream",
     "text": [
      "Model: \"model\"\n",
      "__________________________________________________________________________________________________\n",
      "Layer (type)                    Output Shape         Param #     Connected to                     \n",
      "==================================================================================================\n",
      "input_1 (InputLayer)            [(None, None)]       0                                            \n",
      "__________________________________________________________________________________________________\n",
      "input_2 (InputLayer)            [(None, None)]       0                                            \n",
      "__________________________________________________________________________________________________\n",
      "embedding (Embedding)           (None, None, 128)    615680      input_1[0][0]                    \n",
      "__________________________________________________________________________________________________\n",
      "embedding_1 (Embedding)         (None, None, 128)    1282688     input_2[0][0]                    \n",
      "__________________________________________________________________________________________________\n",
      "lstm (LSTM)                     [(None, 256), (None, 394240      embedding[0][0]                  \n",
      "__________________________________________________________________________________________________\n",
      "lstm_1 (LSTM)                   [(None, None, 256),  394240      embedding_1[0][0]                \n",
      "                                                                 lstm[0][1]                       \n",
      "                                                                 lstm[0][2]                       \n",
      "__________________________________________________________________________________________________\n",
      "dense (Dense)                   (None, None, 10021)  2575397     lstm_1[0][0]                     \n",
      "==================================================================================================\n",
      "Total params: 5,262,245\n",
      "Trainable params: 5,262,245\n",
      "Non-trainable params: 0\n",
      "__________________________________________________________________________________________________\n"
     ]
    }
   ],
   "source": [
    "import tensorflow as tf\n",
    "from tensorflow.keras.models import Model\n",
    "\n",
    "tf.random.set_seed(2022)\n",
    "model = Model([encoder_inputs, decoder_inputs], decoder_outputs)\n",
    "model.summary()"
   ]
  },
  {
   "cell_type": "code",
   "execution_count": 30,
   "id": "17010e4e",
   "metadata": {},
   "outputs": [
    {
     "name": "stdout",
     "output_type": "stream",
     "text": [
      "Epoch 1/10\n",
      "235/235 [==============================] - 12s 34ms/step - loss: 2.4123 - accuracy: 0.6718 - val_loss: 1.9851 - val_accuracy: 0.7238\n",
      "Epoch 2/10\n",
      "235/235 [==============================] - 7s 31ms/step - loss: 1.5801 - accuracy: 0.7606 - val_loss: 1.7817 - val_accuracy: 0.7372\n",
      "Epoch 3/10\n",
      "235/235 [==============================] - 7s 31ms/step - loss: 1.4009 - accuracy: 0.7822 - val_loss: 1.6558 - val_accuracy: 0.7565\n",
      "Epoch 4/10\n",
      "235/235 [==============================] - 7s 32ms/step - loss: 1.2863 - accuracy: 0.7946 - val_loss: 1.5732 - val_accuracy: 0.7653\n",
      "Epoch 5/10\n",
      "235/235 [==============================] - 7s 32ms/step - loss: 1.1751 - accuracy: 0.8085 - val_loss: 1.4699 - val_accuracy: 0.7758\n",
      "Epoch 6/10\n",
      "235/235 [==============================] - 8s 32ms/step - loss: 1.0614 - accuracy: 0.8248 - val_loss: 1.3993 - val_accuracy: 0.7891\n",
      "Epoch 7/10\n",
      "235/235 [==============================] - 8s 32ms/step - loss: 0.9784 - accuracy: 0.8349 - val_loss: 1.3539 - val_accuracy: 0.7961\n",
      "Epoch 8/10\n",
      "235/235 [==============================] - 8s 32ms/step - loss: 0.9072 - accuracy: 0.8422 - val_loss: 1.3168 - val_accuracy: 0.8025\n",
      "Epoch 9/10\n",
      "235/235 [==============================] - 8s 32ms/step - loss: 0.8443 - accuracy: 0.8476 - val_loss: 1.2876 - val_accuracy: 0.8064\n",
      "Epoch 10/10\n",
      "235/235 [==============================] - 8s 32ms/step - loss: 0.7880 - accuracy: 0.8533 - val_loss: 1.2616 - val_accuracy: 0.8104\n"
     ]
    }
   ],
   "source": [
    "model.compile(optimizer=\"Adam\",\n",
    "              loss=\"sparse_categorical_crossentropy\",\n",
    "              metrics=['accuracy'])\n",
    "\n",
    "history = model.fit(x=[encoder_input_train, decoder_input_train],\n",
    "                    y=decoder_target_train,\n",
    "                    validation_data = ([encoder_input_test, decoder_input_test], decoder_target_test),\n",
    "                    epochs=10,\n",
    "                    batch_size=128,\n",
    "                    verbose=1)"
   ]
  },
  {
   "cell_type": "code",
   "execution_count": 31,
   "id": "062348e4",
   "metadata": {},
   "outputs": [
    {
     "name": "stdout",
     "output_type": "stream",
     "text": [
      "dict_keys(['loss', 'accuracy', 'val_loss', 'val_accuracy'])\n"
     ]
    }
   ],
   "source": [
    "history_dict = history.history\n",
    "print(history_dict.keys())"
   ]
  },
  {
   "cell_type": "code",
   "execution_count": 32,
   "id": "3002ae25",
   "metadata": {},
   "outputs": [
    {
     "data": {
      "image/png": "[encoded data removed]",
      "text/plain": [
       "<Figure size 432x288 with 1 Axes>"
      ]
     },
     "metadata": {
      "needs_background": "light"
     },
     "output_type": "display_data"
    }
   ],
   "source": [
    "import matplotlib.pyplot as plt\n",
    "\n",
    "acc = history_dict['accuracy']\n",
    "val_acc = history_dict['val_accuracy']\n",
    "loss = history_dict['loss']\n",
    "val_loss = history_dict['val_loss']\n",
    "\n",
    "epochs = range(1, len(acc) + 1)\n",
    "\n",
    "# \"bo\"는 \"파란색 점\"입니다\n",
    "plt.plot(epochs, loss, 'bo', label='Training loss')\n",
    "# b는 \"파란 실선\"입니다\n",
    "plt.plot(epochs, val_loss, 'b', label='Validation loss')\n",
    "plt.title('Training and validation loss')\n",
    "plt.xlabel('Epochs')\n",
    "plt.ylabel('Loss')\n",
    "plt.legend()\n",
    "\n",
    "plt.show()"
   ]
  },
  {
   "cell_type": "code",
   "execution_count": 33,
   "id": "7513c8e4",
   "metadata": {},
   "outputs": [
    {
     "data": {
      "image/png": "[encoded data removed]",
      "text/plain": [
       "<Figure size 432x288 with 1 Axes>"
      ]
     },
     "metadata": {
      "needs_background": "light"
     },
     "output_type": "display_data"
    }
   ],
   "source": [
    "plt.clf()   # 그림을 초기화합니다\n",
    "\n",
    "plt.plot(epochs, acc, 'bo', label='Training acc')\n",
    "plt.plot(epochs, val_acc, 'b', label='Validation acc')\n",
    "plt.title('Training and validation accuracy')\n",
    "plt.xlabel('Epochs')\n",
    "plt.ylabel('Accuracy')\n",
    "plt.legend()\n",
    "\n",
    "plt.show()"
   ]
  },
  {
   "cell_type": "markdown",
   "id": "4f9867d4",
   "metadata": {},
   "source": [
    "Step 6. 모델 평가하기"
   ]
  },
  {
   "cell_type": "code",
   "execution_count": 34,
   "id": "06fb84eb",
   "metadata": {},
   "outputs": [
    {
     "name": "stdout",
     "output_type": "stream",
     "text": [
      "Model: \"model_1\"\n",
      "_________________________________________________________________\n",
      "Layer (type)                 Output Shape              Param #   \n",
      "=================================================================\n",
      "input_1 (InputLayer)         [(None, None)]            0         \n",
      "_________________________________________________________________\n",
      "embedding (Embedding)        (None, None, 128)         615680    \n",
      "_________________________________________________________________\n",
      "lstm (LSTM)                  [(None, 256), (None, 256) 394240    \n",
      "=================================================================\n",
      "Total params: 1,009,920\n",
      "Trainable params: 1,009,920\n",
      "Non-trainable params: 0\n",
      "_________________________________________________________________\n"
     ]
    }
   ],
   "source": [
    "encoder_model = Model(inputs = encoder_inputs, outputs = encoder_states)\n",
    "encoder_model.summary()"
   ]
  },
  {
   "cell_type": "code",
   "execution_count": 35,
   "id": "e64469d9",
   "metadata": {},
   "outputs": [],
   "source": [
    "# 이전 time step의 hidden state를 저장하는 텐서\n",
    "decoder_state_input_h = Input(shape=(256,))\n",
    "# 이전 time step의 cell state를 저장하는 텐서\n",
    "decoder_state_input_c = Input(shape=(256,))\n",
    "# 이전 time step의 hidden state와 cell state를 하나의 변수에 저장\n",
    "decoder_states_inputs = [decoder_state_input_h, decoder_state_input_c]\n",
    "\n",
    "# decoder_states_inputs를 현재 time step의 초기 상태로 사용.\n",
    "# 구체적인 동작 자체는 def decode_sequence()에 구현.\n",
    "decoder_outputs, state_h, state_c = decoder_lstm(dec_emb, initial_state = decoder_states_inputs)\n",
    "# 현재 time step의 hidden state와 cell state를 하나의 변수에 저장.\n",
    "decoder_states = [state_h, state_c]"
   ]
  },
  {
   "cell_type": "code",
   "execution_count": 36,
   "id": "0592f1bd",
   "metadata": {},
   "outputs": [
    {
     "name": "stdout",
     "output_type": "stream",
     "text": [
      "Model: \"model_2\"\n",
      "__________________________________________________________________________________________________\n",
      "Layer (type)                    Output Shape         Param #     Connected to                     \n",
      "==================================================================================================\n",
      "input_2 (InputLayer)            [(None, None)]       0                                            \n",
      "__________________________________________________________________________________________________\n",
      "embedding_1 (Embedding)         (None, None, 128)    1282688     input_2[0][0]                    \n",
      "__________________________________________________________________________________________________\n",
      "input_3 (InputLayer)            [(None, 256)]        0                                            \n",
      "__________________________________________________________________________________________________\n",
      "input_4 (InputLayer)            [(None, 256)]        0                                            \n",
      "__________________________________________________________________________________________________\n",
      "lstm_1 (LSTM)                   [(None, None, 256),  394240      embedding_1[0][0]                \n",
      "                                                                 input_3[0][0]                    \n",
      "                                                                 input_4[0][0]                    \n",
      "__________________________________________________________________________________________________\n",
      "dense (Dense)                   (None, None, 10021)  2575397     lstm_1[1][0]                     \n",
      "==================================================================================================\n",
      "Total params: 4,252,325\n",
      "Trainable params: 4,252,325\n",
      "Non-trainable params: 0\n",
      "__________________________________________________________________________________________________\n"
     ]
    }
   ],
   "source": [
    "decoder_outputs = decoder_softmax_layer(decoder_outputs)\n",
    "decoder_model = Model(inputs=[decoder_inputs] + decoder_states_inputs, outputs=[decoder_outputs] + decoder_states)\n",
    "decoder_model.summary()"
   ]
  },
  {
   "cell_type": "code",
   "execution_count": 37,
   "id": "37a4590f",
   "metadata": {},
   "outputs": [],
   "source": [
    "eng2idx = eng_tokenizer.word_index\n",
    "fra2idx = fra_tokenizer.word_index\n",
    "idx2eng = eng_tokenizer.index_word\n",
    "idx2fra = fra_tokenizer.index_word"
   ]
  },
  {
   "cell_type": "code",
   "execution_count": 38,
   "id": "ca21d6c9",
   "metadata": {},
   "outputs": [],
   "source": [
    "def decode_sequence(input_seq):\n",
    "    # 입력으로부터 인코더의 상태를 얻음\n",
    "    states_value = encoder_model.predict(input_seq)\n",
    "\n",
    "    # 에 해당하는 원-핫 벡터 생성\n",
    "    target_seq = np.zeros((1,1)) \n",
    "    target_seq[0, 0] = fra2idx['\\t']\n",
    "    \n",
    "    stop_condition = False\n",
    "    decoded_sentence = \"\"\n",
    "\n",
    "    # stop_condition이 True가 될 때까지 루프 반복\n",
    "    while not stop_condition:\n",
    "        # 이점 시점의 상태 states_value를 현 시점의 초기 상태로 사용\n",
    "        output_tokens, h, c = decoder_model.predict([target_seq] + states_value)\n",
    "\n",
    "        # 예측 결과를 문자로 변환\n",
    "        sampled_token_index = np.argmax(output_tokens[0, -1, :])\n",
    "        sampled_char = idx2fra[sampled_token_index]\n",
    "\n",
    "        # 현재 시점의 예측 문자를 예측 문장에 추가\n",
    "        decoded_sentence += ' '+sampled_char\n",
    "\n",
    "        # 에 도달하거나 최대 길이를 넘으면 중단.\n",
    "        if (sampled_char == '\\n' or\n",
    "           len(decoded_sentence) > max_fra_seq_len):\n",
    "            stop_condition = True\n",
    "\n",
    "        # 현재 시점의 예측 결과를 다음 시점의 입력으로 사용하기 위해 저장     \n",
    "        target_seq = np.zeros((1, 1))\n",
    "        target_seq[0, 0] = sampled_token_index\n",
    "\n",
    "        # 현재 시점의 상태를 다음 시점의 상태로 사용하기 위해 저장\n",
    "        states_value = [h, c]\n",
    "\n",
    "    return decoded_sentence"
   ]
  },
  {
   "cell_type": "code",
   "execution_count": 39,
   "id": "e1d611d2",
   "metadata": {},
   "outputs": [
    {
     "name": "stdout",
     "output_type": "stream",
     "text": [
      "-----------------------------------\n",
      "입력 문장: Go . \n",
      "정답 문장:  Va  !  \n",
      "번역기가 번역한 문장:  va - nous . \n",
      "-----------------------------------\n",
      "입력 문장: Relax . \n",
      "정답 문장:  Détends - toi  !  \n",
      "번역기가 번역한 문장:  détends - toi ! \n",
      "-----------------------------------\n",
      "입력 문장: Get away ! \n",
      "정답 문장:  Fous le camp  !  \n",
      "번역기가 번역한 문장:  va - vous ! \n",
      "-----------------------------------\n",
      "입력 문장: I saw it . \n",
      "정답 문장:  Je l’ai vu .  \n",
      "번역기가 번역한 문장:  je l'ai vu . \n",
      "-----------------------------------\n",
      "입력 문장: Come back . \n",
      "정답 문장:  Revenez  !  \n",
      "번역기가 번역한 문장:  viens ! \n"
     ]
    }
   ],
   "source": [
    "import numpy as np\n",
    "for seq_index in [0, 60, 490, 630, 890]: # 입력 문장의 인덱스\n",
    "    input_seq = encoder_input[seq_index : seq_index + 1]\n",
    "    decoded_sentence = decode_sequence(input_seq)\n",
    "    print('-' * 35)\n",
    "    print('입력 문장:', lines.eng[seq_index])\n",
    "    print('정답 문장:', lines.fra[seq_index][1:len(lines.fra[seq_index])-1]) # '\\t'와 '\\n'을 빼고 출력\n",
    "    print('번역기가 번역한 문장:', decoded_sentence[:len(decoded_sentence)-1]) # '\\n'을 빼고 출력"
   ]
  },
  {
   "cell_type": "markdown",
   "id": "4c7bb16b",
   "metadata": {},
   "source": [
    "<style type=\"text/css\">\n",
    ".tg  {border-collapse:collapse;border-spacing:0;}\n",
    ".tg td{border-color:black;border-style:solid;border-width:1px;font-family:Arial, sans-serif;font-size:14px;\n",
    "  overflow:hidden;padding:10px 5px;word-break:normal;}\n",
    ".tg th{border-color:black;border-style:solid;border-width:1px;font-family:Arial, sans-serif;font-size:14px;\n",
    "  font-weight:normal;overflow:hidden;padding:10px 5px;word-break:normal;}\n",
    ".tg .tg-c3ow{border-color:inherit;text-align:center;vertical-align:top}\n",
    ".tg .tg-0pky{border-color:inherit;text-align:left;vertical-align:top}\n",
    ".tg .tg-0lax{text-align:left;vertical-align:top}\n",
    "</style>\n",
    "<table class=\"tg\" style=\"undefined;table-layout: fixed; width: 540px\">\n",
    "<colgroup>\n",
    "<col style=\"width: 26px\">\n",
    "<col style=\"width: 101px\">\n",
    "<col style=\"width: 159px\">\n",
    "<col style=\"width: 113px\">\n",
    "<col style=\"width: 141px\">\n",
    "</colgroup>\n",
    "<thead>\n",
    "  <tr>\n",
    "    <th class=\"tg-0pky\"></th>\n",
    "    <th class=\"tg-c3ow\">영어</th>\n",
    "    <th class=\"tg-c3ow\">영어 번역</th>\n",
    "    <th class=\"tg-c3ow\">프랑스어</th>\n",
    "    <th class=\"tg-c3ow\">프랑스어 번역</th>\n",
    "  </tr>\n",
    "</thead>\n",
    "<tbody>\n",
    "  <tr>\n",
    "    <td class=\"tg-0lax\">1</td>\n",
    "    <td class=\"tg-0lax\">Go .</td>\n",
    "    <td class=\"tg-0lax\">가다 .</td>\n",
    "    <td class=\"tg-0lax\">va - nous .</td>\n",
    "    <td class=\"tg-0lax\">우리에게 가십시오 .</td>\n",
    "  </tr>\n",
    "  <tr>\n",
    "    <td class=\"tg-0pky\">2</td>\n",
    "    <td class=\"tg-0pky\">Relax .</td>\n",
    "    <td class=\"tg-0pky\">안심하다 .</td>\n",
    "    <td class=\"tg-0pky\">détends - toi !</td>\n",
    "    <td class=\"tg-0pky\">안심하다 !</td>\n",
    "  </tr>\n",
    "  <tr>\n",
    "    <td class=\"tg-0pky\">3</td>\n",
    "    <td class=\"tg-0pky\">Get away !</td>\n",
    "    <td class=\"tg-0pky\">물러나 !</td>\n",
    "    <td class=\"tg-0pky\">va - vous !</td>\n",
    "    <td class=\"tg-0pky\">저리 가요 !</td>\n",
    "  </tr>\n",
    "  <tr>\n",
    "    <td class=\"tg-0pky\">4</td>\n",
    "    <td class=\"tg-0pky\">I saw it .</td>\n",
    "    <td class=\"tg-0pky\">나는 그것을 보았다 .</td>\n",
    "    <td class=\"tg-0pky\">je l'ai vu .</td>\n",
    "    <td class=\"tg-0pky\">나는 그것을 보았다 .</td>\n",
    "  </tr>\n",
    "  <tr>\n",
    "    <td class=\"tg-0lax\">5</td>\n",
    "    <td class=\"tg-0lax\">Come back .</td>\n",
    "    <td class=\"tg-0lax\">돌아와 .</td>\n",
    "    <td class=\"tg-0lax\">viens !</td>\n",
    "    <td class=\"tg-0lax\">오다 !</td>\n",
    "  </tr>\n",
    "</tbody>\n",
    "</table>"
   ]
  },
  {
   "cell_type": "markdown",
   "id": "2b2c2265",
   "metadata": {},
   "source": [
    "### 회고"
   ]
  },
  {
   "cell_type": "markdown",
   "id": "8fef0985",
   "metadata": {},
   "source": [
    "<ol>\n",
    "<ul> 1. <strong>프로젝트 설명</strong>\n",
    "    <p> LSTM을 이용하여 영어-프랑스어 번역기를 만드는 프로젝트를 진행했다. 번역 결과가 자연스러운 번역기를 만드는 것이 목표이다.</p>\n",
    "</ul>\n",
    "<ul> 2. <strong>시도한 것들</strong>\n",
    "    <li> 학습을 진행한 그래프에서 loss 값은 계속 줄어드는데 val loss 값은 올라가는 것을 발견하고 오버피팅이라 판단, batch normalization을 시도하였다. 그러나 LSTM에서는 batch normalization을 사용하면 안 되어서, Layer normalization으로 변경하였다.</li>\n",
    "    <li> layer normalization을 해도 계속 오버피팅이 일어나서 Dropout을 추가하였다.</li>\n",
    "</ul>\n",
    "<ul> 3. <strong>어려웠던 점</strong>\n",
    "    <li> 오버피팅이 일어나고 val loss 값이 떨어지지 않아서 어려움를 겪었다. epochs를 줄이면 충분히 학습이 일어나지 않고, 너무 늘리면 오버피팅이 심하게 일어날 것 같았다. drop out과 normalization을 했는데도 val loss 값이 원하는 만큼 떨어지지 않았고 결과적으로 성능이 떨어졌다.</li>\n",
    "</ul>\n",
    "<ul> 4. <strong>알게된 점</strong>\n",
    "    <li> LSTM에서는 batch normalization이 아니라 layer normalization을 사용해야한다. 문장은 연속적인 특성을 가지고 있는데 batch normalization을 통해 mini batch 단위로 normalization을 시행하면 문장이 나누어지면서 제대로 학습되지 않을 수 있다.</li>\n",
    "    <li> tensorflow keras의 tokenizer는 다양한 매소드를 가지고 있는데, 그 중에서도 char_level=True는 문장을 문자 단위(알파벳 단위)로 나눈다는 의미이다. filter 매소드에는 puctuation을 입력하여 puctuation을 제거한 후 토큰화를 진행할 수도 있다.</li>\n",
    "</ul>\n",
    "<ul> 5. <strong>아쉬운 점</strong>\n",
    "    <li> 일부 프랑스 번역 문장에서 마침표가 제대로 나오지 않았다. 번역이 제대로 이루어지지 않아 일부만 출력된 듯한데 이 문제를 해결하지 못한 점이 아쉽다.</li>\n",
    "</ul>\n",
    "</ol>"
   ]
  },
  {
   "cell_type": "code",
   "execution_count": null,
   "id": "7a1cf2c6",
   "metadata": {},
   "outputs": [],
   "source": []
  }
 ],
 "metadata": {
  "kernelspec": {
   "display_name": "Python 3 (ipykernel)",
   "language": "python",
   "name": "python3"
  },
  "language_info": {
   "codemirror_mode": {
    "name": "ipython",
    "version": 3
   },
   "file_extension": ".py",
   "mimetype": "text/x-python",
   "name": "python",
   "nbconvert_exporter": "python",
   "pygments_lexer": "ipython3",
   "version": "3.9.7"
  }
 },
 "nbformat": 4,
 "nbformat_minor": 5
}
