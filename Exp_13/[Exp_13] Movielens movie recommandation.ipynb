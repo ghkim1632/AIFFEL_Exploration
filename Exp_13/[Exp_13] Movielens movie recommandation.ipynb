{
 "cells": [
  {
   "cell_type": "markdown",
   "id": "3a2ca39d",
   "metadata": {},
   "source": [
    "## Movielens 영화 추천 실습"
   ]
  },
  {
   "cell_type": "code",
   "execution_count": 1,
   "id": "a346d5f2",
   "metadata": {},
   "outputs": [
    {
     "name": "stdout",
     "output_type": "stream",
     "text": [
      "1.21.4\n",
      "1.7.1\n",
      "0.4.8\n"
     ]
    }
   ],
   "source": [
    "import numpy as np\n",
    "import scipy\n",
    "import implicit\n",
    "\n",
    "print(np.__version__)\n",
    "print(scipy.__version__)\n",
    "print(implicit.__version__)"
   ]
  },
  {
   "cell_type": "markdown",
   "id": "7d4f0206",
   "metadata": {},
   "source": [
    "### 1. 데이터 준비와 전처리"
   ]
  },
  {
   "cell_type": "code",
   "execution_count": 2,
   "id": "c08d4b30",
   "metadata": {},
   "outputs": [
    {
     "data": {
      "text/html": [
       "<div>\n",
       "<style scoped>\n",
       "    .dataframe tbody tr th:only-of-type {\n",
       "        vertical-align: middle;\n",
       "    }\n",
       "\n",
       "    .dataframe tbody tr th {\n",
       "        vertical-align: top;\n",
       "    }\n",
       "\n",
       "    .dataframe thead th {\n",
       "        text-align: right;\n",
       "    }\n",
       "</style>\n",
       "<table border=\"1\" class=\"dataframe\">\n",
       "  <thead>\n",
       "    <tr style=\"text-align: right;\">\n",
       "      <th></th>\n",
       "      <th>user_id</th>\n",
       "      <th>movie_id</th>\n",
       "      <th>ratings</th>\n",
       "      <th>timestamp</th>\n",
       "    </tr>\n",
       "  </thead>\n",
       "  <tbody>\n",
       "    <tr>\n",
       "      <th>0</th>\n",
       "      <td>1</td>\n",
       "      <td>1193</td>\n",
       "      <td>5</td>\n",
       "      <td>978300760</td>\n",
       "    </tr>\n",
       "    <tr>\n",
       "      <th>1</th>\n",
       "      <td>1</td>\n",
       "      <td>661</td>\n",
       "      <td>3</td>\n",
       "      <td>978302109</td>\n",
       "    </tr>\n",
       "    <tr>\n",
       "      <th>2</th>\n",
       "      <td>1</td>\n",
       "      <td>914</td>\n",
       "      <td>3</td>\n",
       "      <td>978301968</td>\n",
       "    </tr>\n",
       "    <tr>\n",
       "      <th>3</th>\n",
       "      <td>1</td>\n",
       "      <td>3408</td>\n",
       "      <td>4</td>\n",
       "      <td>978300275</td>\n",
       "    </tr>\n",
       "    <tr>\n",
       "      <th>4</th>\n",
       "      <td>1</td>\n",
       "      <td>2355</td>\n",
       "      <td>5</td>\n",
       "      <td>978824291</td>\n",
       "    </tr>\n",
       "  </tbody>\n",
       "</table>\n",
       "</div>"
      ],
      "text/plain": [
       "   user_id  movie_id  ratings  timestamp\n",
       "0        1      1193        5  978300760\n",
       "1        1       661        3  978302109\n",
       "2        1       914        3  978301968\n",
       "3        1      3408        4  978300275\n",
       "4        1      2355        5  978824291"
      ]
     },
     "execution_count": 2,
     "metadata": {},
     "output_type": "execute_result"
    }
   ],
   "source": [
    "import os\n",
    "import pandas as pd\n",
    "\n",
    "rating_file_path='/aiffel/aiffel/recommendata_iu/data/ml-1m/ratings.dat'\n",
    "ratings_cols = ['user_id', 'movie_id', 'ratings', 'timestamp']\n",
    "ratings = pd.read_csv(rating_file_path, sep='::', names=ratings_cols, engine='python', encoding = \"ISO-8859-1\")\n",
    "orginal_data_size = len(ratings)\n",
    "ratings.head()"
   ]
  },
  {
   "cell_type": "code",
   "execution_count": 3,
   "id": "7dd4a36e",
   "metadata": {},
   "outputs": [
    {
     "name": "stdout",
     "output_type": "stream",
     "text": [
      "orginal_data_size: 1000209, filtered_data_size: 836478\n",
      "Ratio of Remaining Data is 83.63%\n"
     ]
    }
   ],
   "source": [
    "# 3점 이상만 남깁니다.\n",
    "ratings = ratings[ratings['ratings']>=3]\n",
    "filtered_data_size = len(ratings)\n",
    "\n",
    "print(f'orginal_data_size: {orginal_data_size}, filtered_data_size: {filtered_data_size}')\n",
    "print(f'Ratio of Remaining Data is {filtered_data_size / orginal_data_size:.2%}')"
   ]
  },
  {
   "cell_type": "code",
   "execution_count": 4,
   "id": "e1de0adc",
   "metadata": {},
   "outputs": [],
   "source": [
    "# ratings 컬럼의 이름을 counts로 바꿉니다.\n",
    "# 별점을 시청횟수로 생각함.\n",
    "ratings.rename(columns={'ratings':'counts'}, inplace=True)"
   ]
  },
  {
   "cell_type": "code",
   "execution_count": 5,
   "id": "690d3fe6",
   "metadata": {},
   "outputs": [
    {
     "data": {
      "text/plain": [
       "0          5\n",
       "1          3\n",
       "2          3\n",
       "3          4\n",
       "4          5\n",
       "          ..\n",
       "1000203    3\n",
       "1000205    5\n",
       "1000206    5\n",
       "1000207    4\n",
       "1000208    4\n",
       "Name: counts, Length: 836478, dtype: int64"
      ]
     },
     "execution_count": 5,
     "metadata": {},
     "output_type": "execute_result"
    }
   ],
   "source": [
    "ratings['counts']"
   ]
  },
  {
   "cell_type": "code",
   "execution_count": 6,
   "id": "6fd91a73",
   "metadata": {},
   "outputs": [
    {
     "data": {
      "text/html": [
       "<div>\n",
       "<style scoped>\n",
       "    .dataframe tbody tr th:only-of-type {\n",
       "        vertical-align: middle;\n",
       "    }\n",
       "\n",
       "    .dataframe tbody tr th {\n",
       "        vertical-align: top;\n",
       "    }\n",
       "\n",
       "    .dataframe thead th {\n",
       "        text-align: right;\n",
       "    }\n",
       "</style>\n",
       "<table border=\"1\" class=\"dataframe\">\n",
       "  <thead>\n",
       "    <tr style=\"text-align: right;\">\n",
       "      <th></th>\n",
       "      <th>movie_id</th>\n",
       "      <th>title</th>\n",
       "      <th>genre</th>\n",
       "    </tr>\n",
       "  </thead>\n",
       "  <tbody>\n",
       "    <tr>\n",
       "      <th>0</th>\n",
       "      <td>1</td>\n",
       "      <td>Toy Story (1995)</td>\n",
       "      <td>Animation|Children's|Comedy</td>\n",
       "    </tr>\n",
       "    <tr>\n",
       "      <th>1</th>\n",
       "      <td>2</td>\n",
       "      <td>Jumanji (1995)</td>\n",
       "      <td>Adventure|Children's|Fantasy</td>\n",
       "    </tr>\n",
       "    <tr>\n",
       "      <th>2</th>\n",
       "      <td>3</td>\n",
       "      <td>Grumpier Old Men (1995)</td>\n",
       "      <td>Comedy|Romance</td>\n",
       "    </tr>\n",
       "    <tr>\n",
       "      <th>3</th>\n",
       "      <td>4</td>\n",
       "      <td>Waiting to Exhale (1995)</td>\n",
       "      <td>Comedy|Drama</td>\n",
       "    </tr>\n",
       "    <tr>\n",
       "      <th>4</th>\n",
       "      <td>5</td>\n",
       "      <td>Father of the Bride Part II (1995)</td>\n",
       "      <td>Comedy</td>\n",
       "    </tr>\n",
       "  </tbody>\n",
       "</table>\n",
       "</div>"
      ],
      "text/plain": [
       "   movie_id                               title                         genre\n",
       "0         1                    Toy Story (1995)   Animation|Children's|Comedy\n",
       "1         2                      Jumanji (1995)  Adventure|Children's|Fantasy\n",
       "2         3             Grumpier Old Men (1995)                Comedy|Romance\n",
       "3         4            Waiting to Exhale (1995)                  Comedy|Drama\n",
       "4         5  Father of the Bride Part II (1995)                        Comedy"
      ]
     },
     "execution_count": 6,
     "metadata": {},
     "output_type": "execute_result"
    }
   ],
   "source": [
    "# 영화 제목을 보기 위해 메타 데이터를 읽어옵니다.\n",
    "movie_file_path=os.getenv('HOME') + '/aiffel/recommendata_iu/data/ml-1m/movies.dat'\n",
    "cols = ['movie_id', 'title', 'genre'] \n",
    "movies = pd.read_csv(movie_file_path, sep='::', names=cols, engine='python', encoding='ISO-8859-1')\n",
    "movies.head()"
   ]
  },
  {
   "cell_type": "code",
   "execution_count": 7,
   "id": "d1ad512d",
   "metadata": {},
   "outputs": [
    {
     "data": {
      "text/html": [
       "<div>\n",
       "<style scoped>\n",
       "    .dataframe tbody tr th:only-of-type {\n",
       "        vertical-align: middle;\n",
       "    }\n",
       "\n",
       "    .dataframe tbody tr th {\n",
       "        vertical-align: top;\n",
       "    }\n",
       "\n",
       "    .dataframe thead th {\n",
       "        text-align: right;\n",
       "    }\n",
       "</style>\n",
       "<table border=\"1\" class=\"dataframe\">\n",
       "  <thead>\n",
       "    <tr style=\"text-align: right;\">\n",
       "      <th></th>\n",
       "      <th>user_id</th>\n",
       "      <th>movie_id</th>\n",
       "      <th>counts</th>\n",
       "      <th>timestamp</th>\n",
       "      <th>title</th>\n",
       "      <th>genre</th>\n",
       "    </tr>\n",
       "  </thead>\n",
       "  <tbody>\n",
       "    <tr>\n",
       "      <th>0</th>\n",
       "      <td>1</td>\n",
       "      <td>1193</td>\n",
       "      <td>5</td>\n",
       "      <td>978300760</td>\n",
       "      <td>One Flew Over the Cuckoo's Nest (1975)</td>\n",
       "      <td>Drama</td>\n",
       "    </tr>\n",
       "    <tr>\n",
       "      <th>1</th>\n",
       "      <td>2</td>\n",
       "      <td>1193</td>\n",
       "      <td>5</td>\n",
       "      <td>978298413</td>\n",
       "      <td>One Flew Over the Cuckoo's Nest (1975)</td>\n",
       "      <td>Drama</td>\n",
       "    </tr>\n",
       "    <tr>\n",
       "      <th>2</th>\n",
       "      <td>12</td>\n",
       "      <td>1193</td>\n",
       "      <td>4</td>\n",
       "      <td>978220179</td>\n",
       "      <td>One Flew Over the Cuckoo's Nest (1975)</td>\n",
       "      <td>Drama</td>\n",
       "    </tr>\n",
       "    <tr>\n",
       "      <th>3</th>\n",
       "      <td>15</td>\n",
       "      <td>1193</td>\n",
       "      <td>4</td>\n",
       "      <td>978199279</td>\n",
       "      <td>One Flew Over the Cuckoo's Nest (1975)</td>\n",
       "      <td>Drama</td>\n",
       "    </tr>\n",
       "    <tr>\n",
       "      <th>4</th>\n",
       "      <td>17</td>\n",
       "      <td>1193</td>\n",
       "      <td>5</td>\n",
       "      <td>978158471</td>\n",
       "      <td>One Flew Over the Cuckoo's Nest (1975)</td>\n",
       "      <td>Drama</td>\n",
       "    </tr>\n",
       "    <tr>\n",
       "      <th>...</th>\n",
       "      <td>...</td>\n",
       "      <td>...</td>\n",
       "      <td>...</td>\n",
       "      <td>...</td>\n",
       "      <td>...</td>\n",
       "      <td>...</td>\n",
       "    </tr>\n",
       "    <tr>\n",
       "      <th>836473</th>\n",
       "      <td>5851</td>\n",
       "      <td>3607</td>\n",
       "      <td>5</td>\n",
       "      <td>957756608</td>\n",
       "      <td>One Little Indian (1973)</td>\n",
       "      <td>Comedy|Drama|Western</td>\n",
       "    </tr>\n",
       "    <tr>\n",
       "      <th>836474</th>\n",
       "      <td>5854</td>\n",
       "      <td>3026</td>\n",
       "      <td>4</td>\n",
       "      <td>958346883</td>\n",
       "      <td>Slaughterhouse (1987)</td>\n",
       "      <td>Horror</td>\n",
       "    </tr>\n",
       "    <tr>\n",
       "      <th>836475</th>\n",
       "      <td>5854</td>\n",
       "      <td>690</td>\n",
       "      <td>3</td>\n",
       "      <td>957744257</td>\n",
       "      <td>Promise, The (Versprechen, Das) (1994)</td>\n",
       "      <td>Romance</td>\n",
       "    </tr>\n",
       "    <tr>\n",
       "      <th>836476</th>\n",
       "      <td>5938</td>\n",
       "      <td>2909</td>\n",
       "      <td>4</td>\n",
       "      <td>957273353</td>\n",
       "      <td>Five Wives, Three Secretaries and Me (1998)</td>\n",
       "      <td>Documentary</td>\n",
       "    </tr>\n",
       "    <tr>\n",
       "      <th>836477</th>\n",
       "      <td>5948</td>\n",
       "      <td>1360</td>\n",
       "      <td>5</td>\n",
       "      <td>1016563709</td>\n",
       "      <td>Identification of a Woman (Identificazione di ...</td>\n",
       "      <td>Drama</td>\n",
       "    </tr>\n",
       "  </tbody>\n",
       "</table>\n",
       "<p>836478 rows × 6 columns</p>\n",
       "</div>"
      ],
      "text/plain": [
       "        user_id  movie_id  counts   timestamp  \\\n",
       "0             1      1193       5   978300760   \n",
       "1             2      1193       5   978298413   \n",
       "2            12      1193       4   978220179   \n",
       "3            15      1193       4   978199279   \n",
       "4            17      1193       5   978158471   \n",
       "...         ...       ...     ...         ...   \n",
       "836473     5851      3607       5   957756608   \n",
       "836474     5854      3026       4   958346883   \n",
       "836475     5854       690       3   957744257   \n",
       "836476     5938      2909       4   957273353   \n",
       "836477     5948      1360       5  1016563709   \n",
       "\n",
       "                                                    title  \\\n",
       "0                  One Flew Over the Cuckoo's Nest (1975)   \n",
       "1                  One Flew Over the Cuckoo's Nest (1975)   \n",
       "2                  One Flew Over the Cuckoo's Nest (1975)   \n",
       "3                  One Flew Over the Cuckoo's Nest (1975)   \n",
       "4                  One Flew Over the Cuckoo's Nest (1975)   \n",
       "...                                                   ...   \n",
       "836473                           One Little Indian (1973)   \n",
       "836474                              Slaughterhouse (1987)   \n",
       "836475             Promise, The (Versprechen, Das) (1994)   \n",
       "836476        Five Wives, Three Secretaries and Me (1998)   \n",
       "836477  Identification of a Woman (Identificazione di ...   \n",
       "\n",
       "                       genre  \n",
       "0                      Drama  \n",
       "1                      Drama  \n",
       "2                      Drama  \n",
       "3                      Drama  \n",
       "4                      Drama  \n",
       "...                      ...  \n",
       "836473  Comedy|Drama|Western  \n",
       "836474                Horror  \n",
       "836475               Romance  \n",
       "836476           Documentary  \n",
       "836477                 Drama  \n",
       "\n",
       "[836478 rows x 6 columns]"
      ]
     },
     "execution_count": 7,
     "metadata": {},
     "output_type": "execute_result"
    }
   ],
   "source": [
    "# MF model\n",
    "data = pd.merge(ratings, movies)\n",
    "data"
   ]
  },
  {
   "cell_type": "markdown",
   "id": "51b0dd3d",
   "metadata": {},
   "source": [
    "### 2. 데이터 탐색\n",
    "- ratings에 있는 유니크한 영화 개수"
   ]
  },
  {
   "cell_type": "code",
   "execution_count": 8,
   "id": "707dc8b4",
   "metadata": {},
   "outputs": [
    {
     "data": {
      "text/plain": [
       "3628"
      ]
     },
     "execution_count": 8,
     "metadata": {},
     "output_type": "execute_result"
    }
   ],
   "source": [
    "data['movie_id'].nunique()"
   ]
  },
  {
   "cell_type": "markdown",
   "id": "ba2e72ae",
   "metadata": {},
   "source": [
    "- ratings에 있는 유니크한 사용자 수"
   ]
  },
  {
   "cell_type": "code",
   "execution_count": 9,
   "id": "bc046ccc",
   "metadata": {},
   "outputs": [
    {
     "data": {
      "text/plain": [
       "6039"
      ]
     },
     "execution_count": 9,
     "metadata": {},
     "output_type": "execute_result"
    }
   ],
   "source": [
    "data['user_id'].nunique()"
   ]
  },
  {
   "cell_type": "markdown",
   "id": "df668802",
   "metadata": {},
   "source": [
    "- 가장 인기 있는 영화 30개(인기순)"
   ]
  },
  {
   "cell_type": "code",
   "execution_count": 10,
   "id": "7f3b0b4c",
   "metadata": {},
   "outputs": [
    {
     "data": {
      "text/plain": [
       "title\n",
       "American Beauty (1999)                                   3211\n",
       "Star Wars: Episode IV - A New Hope (1977)                2910\n",
       "Star Wars: Episode V - The Empire Strikes Back (1980)    2885\n",
       "Star Wars: Episode VI - Return of the Jedi (1983)        2716\n",
       "Saving Private Ryan (1998)                               2561\n",
       "Terminator 2: Judgment Day (1991)                        2509\n",
       "Silence of the Lambs, The (1991)                         2498\n",
       "Raiders of the Lost Ark (1981)                           2473\n",
       "Back to the Future (1985)                                2460\n",
       "Matrix, The (1999)                                       2434\n",
       "Jurassic Park (1993)                                     2413\n",
       "Sixth Sense, The (1999)                                  2385\n",
       "Fargo (1996)                                             2371\n",
       "Braveheart (1995)                                        2314\n",
       "Men in Black (1997)                                      2297\n",
       "Schindler's List (1993)                                  2257\n",
       "Princess Bride, The (1987)                               2252\n",
       "Shakespeare in Love (1998)                               2213\n",
       "L.A. Confidential (1997)                                 2210\n",
       "Shawshank Redemption, The (1994)                         2194\n",
       "Godfather, The (1972)                                    2167\n",
       "Groundhog Day (1993)                                     2121\n",
       "E.T. the Extra-Terrestrial (1982)                        2102\n",
       "Being John Malkovich (1999)                              2066\n",
       "Ghostbusters (1984)                                      2051\n",
       "Pulp Fiction (1994)                                      2030\n",
       "Forrest Gump (1994)                                      2022\n",
       "Terminator, The (1984)                                   2019\n",
       "Toy Story (1995)                                         2000\n",
       "Fugitive, The (1993)                                     1941\n",
       "Name: user_id, dtype: int64"
      ]
     },
     "execution_count": 10,
     "metadata": {},
     "output_type": "execute_result"
    }
   ],
   "source": [
    "popular_movie = data.groupby('title')['user_id'].count()\n",
    "popular_movie.sort_values(ascending=False).head(30)"
   ]
  },
  {
   "cell_type": "markdown",
   "id": "6b4cb9bb",
   "metadata": {},
   "source": [
    "### 3. 내가 선호하는 영화를 5가지 골라서 ratings에 추가"
   ]
  },
  {
   "cell_type": "code",
   "execution_count": 11,
   "id": "87715ae0",
   "metadata": {},
   "outputs": [
    {
     "data": {
      "text/html": [
       "<div>\n",
       "<style scoped>\n",
       "    .dataframe tbody tr th:only-of-type {\n",
       "        vertical-align: middle;\n",
       "    }\n",
       "\n",
       "    .dataframe tbody tr th {\n",
       "        vertical-align: top;\n",
       "    }\n",
       "\n",
       "    .dataframe thead th {\n",
       "        text-align: right;\n",
       "    }\n",
       "</style>\n",
       "<table border=\"1\" class=\"dataframe\">\n",
       "  <thead>\n",
       "    <tr style=\"text-align: right;\">\n",
       "      <th></th>\n",
       "      <th>movie_id</th>\n",
       "      <th>title</th>\n",
       "      <th>genre</th>\n",
       "    </tr>\n",
       "  </thead>\n",
       "  <tbody>\n",
       "    <tr>\n",
       "      <th>0</th>\n",
       "      <td>1</td>\n",
       "      <td>Toy Story (1995)</td>\n",
       "      <td>Animation|Children's|Comedy</td>\n",
       "    </tr>\n",
       "    <tr>\n",
       "      <th>3045</th>\n",
       "      <td>3114</td>\n",
       "      <td>Toy Story 2 (1999)</td>\n",
       "      <td>Animation|Children's|Comedy</td>\n",
       "    </tr>\n",
       "  </tbody>\n",
       "</table>\n",
       "</div>"
      ],
      "text/plain": [
       "      movie_id               title                        genre\n",
       "0            1    Toy Story (1995)  Animation|Children's|Comedy\n",
       "3045      3114  Toy Story 2 (1999)  Animation|Children's|Comedy"
      ]
     },
     "execution_count": 11,
     "metadata": {},
     "output_type": "execute_result"
    }
   ],
   "source": [
    "movies[movies['title'].str.contains(\"Toy Story\")]"
   ]
  },
  {
   "cell_type": "code",
   "execution_count": 12,
   "id": "6589507b",
   "metadata": {},
   "outputs": [
    {
     "data": {
      "text/html": [
       "<div>\n",
       "<style scoped>\n",
       "    .dataframe tbody tr th:only-of-type {\n",
       "        vertical-align: middle;\n",
       "    }\n",
       "\n",
       "    .dataframe tbody tr th {\n",
       "        vertical-align: top;\n",
       "    }\n",
       "\n",
       "    .dataframe thead th {\n",
       "        text-align: right;\n",
       "    }\n",
       "</style>\n",
       "<table border=\"1\" class=\"dataframe\">\n",
       "  <thead>\n",
       "    <tr style=\"text-align: right;\">\n",
       "      <th></th>\n",
       "      <th>movie_id</th>\n",
       "      <th>title</th>\n",
       "      <th>genre</th>\n",
       "    </tr>\n",
       "  </thead>\n",
       "  <tbody>\n",
       "    <tr>\n",
       "      <th>997</th>\n",
       "      <td>1010</td>\n",
       "      <td>Love Bug, The (1969)</td>\n",
       "      <td>Children's|Comedy</td>\n",
       "    </tr>\n",
       "    <tr>\n",
       "      <th>2286</th>\n",
       "      <td>2355</td>\n",
       "      <td>Bug's Life, A (1998)</td>\n",
       "      <td>Animation|Children's|Comedy</td>\n",
       "    </tr>\n",
       "  </tbody>\n",
       "</table>\n",
       "</div>"
      ],
      "text/plain": [
       "      movie_id                 title                        genre\n",
       "997       1010  Love Bug, The (1969)            Children's|Comedy\n",
       "2286      2355  Bug's Life, A (1998)  Animation|Children's|Comedy"
      ]
     },
     "execution_count": 12,
     "metadata": {},
     "output_type": "execute_result"
    }
   ],
   "source": [
    "movies[movies['title'].str.contains(\"Bug\")]"
   ]
  },
  {
   "cell_type": "code",
   "execution_count": 13,
   "id": "64ca4311",
   "metadata": {},
   "outputs": [
    {
     "data": {
      "text/html": [
       "<div>\n",
       "<style scoped>\n",
       "    .dataframe tbody tr th:only-of-type {\n",
       "        vertical-align: middle;\n",
       "    }\n",
       "\n",
       "    .dataframe tbody tr th {\n",
       "        vertical-align: top;\n",
       "    }\n",
       "\n",
       "    .dataframe thead th {\n",
       "        text-align: right;\n",
       "    }\n",
       "</style>\n",
       "<table border=\"1\" class=\"dataframe\">\n",
       "  <thead>\n",
       "    <tr style=\"text-align: right;\">\n",
       "      <th></th>\n",
       "      <th>movie_id</th>\n",
       "      <th>title</th>\n",
       "      <th>genre</th>\n",
       "    </tr>\n",
       "  </thead>\n",
       "  <tbody>\n",
       "    <tr>\n",
       "      <th>2548</th>\n",
       "      <td>2617</td>\n",
       "      <td>Mummy, The (1999)</td>\n",
       "      <td>Action|Adventure|Horror|Thriller</td>\n",
       "    </tr>\n",
       "    <tr>\n",
       "      <th>2564</th>\n",
       "      <td>2633</td>\n",
       "      <td>Mummy, The (1932)</td>\n",
       "      <td>Horror|Romance</td>\n",
       "    </tr>\n",
       "    <tr>\n",
       "      <th>2565</th>\n",
       "      <td>2634</td>\n",
       "      <td>Mummy, The (1959)</td>\n",
       "      <td>Horror</td>\n",
       "    </tr>\n",
       "    <tr>\n",
       "      <th>2566</th>\n",
       "      <td>2635</td>\n",
       "      <td>Mummy's Curse, The (1944)</td>\n",
       "      <td>Horror</td>\n",
       "    </tr>\n",
       "    <tr>\n",
       "      <th>2567</th>\n",
       "      <td>2636</td>\n",
       "      <td>Mummy's Ghost, The (1944)</td>\n",
       "      <td>Horror</td>\n",
       "    </tr>\n",
       "    <tr>\n",
       "      <th>2568</th>\n",
       "      <td>2637</td>\n",
       "      <td>Mummy's Hand, The (1940)</td>\n",
       "      <td>Horror</td>\n",
       "    </tr>\n",
       "    <tr>\n",
       "      <th>2569</th>\n",
       "      <td>2638</td>\n",
       "      <td>Mummy's Tomb, The (1942)</td>\n",
       "      <td>Horror</td>\n",
       "    </tr>\n",
       "  </tbody>\n",
       "</table>\n",
       "</div>"
      ],
      "text/plain": [
       "      movie_id                      title                             genre\n",
       "2548      2617          Mummy, The (1999)  Action|Adventure|Horror|Thriller\n",
       "2564      2633          Mummy, The (1932)                    Horror|Romance\n",
       "2565      2634          Mummy, The (1959)                            Horror\n",
       "2566      2635  Mummy's Curse, The (1944)                            Horror\n",
       "2567      2636  Mummy's Ghost, The (1944)                            Horror\n",
       "2568      2637   Mummy's Hand, The (1940)                            Horror\n",
       "2569      2638   Mummy's Tomb, The (1942)                            Horror"
      ]
     },
     "execution_count": 13,
     "metadata": {},
     "output_type": "execute_result"
    }
   ],
   "source": [
    "movies[movies['title'].str.contains(\"Mummy\")]"
   ]
  },
  {
   "cell_type": "code",
   "execution_count": 14,
   "id": "97443750",
   "metadata": {},
   "outputs": [
    {
     "data": {
      "text/html": [
       "<div>\n",
       "<style scoped>\n",
       "    .dataframe tbody tr th:only-of-type {\n",
       "        vertical-align: middle;\n",
       "    }\n",
       "\n",
       "    .dataframe tbody tr th {\n",
       "        vertical-align: top;\n",
       "    }\n",
       "\n",
       "    .dataframe thead th {\n",
       "        text-align: right;\n",
       "    }\n",
       "</style>\n",
       "<table border=\"1\" class=\"dataframe\">\n",
       "  <thead>\n",
       "    <tr style=\"text-align: right;\">\n",
       "      <th></th>\n",
       "      <th>movie_id</th>\n",
       "      <th>title</th>\n",
       "      <th>genre</th>\n",
       "    </tr>\n",
       "  </thead>\n",
       "  <tbody>\n",
       "    <tr>\n",
       "      <th>342</th>\n",
       "      <td>346</td>\n",
       "      <td>Backbeat (1993)</td>\n",
       "      <td>Drama|Musical</td>\n",
       "    </tr>\n",
       "    <tr>\n",
       "      <th>1154</th>\n",
       "      <td>1170</td>\n",
       "      <td>Best of the Best 3: No Turning Back (1995)</td>\n",
       "      <td>Action</td>\n",
       "    </tr>\n",
       "    <tr>\n",
       "      <th>1178</th>\n",
       "      <td>1196</td>\n",
       "      <td>Star Wars: Episode V - The Empire Strikes Back...</td>\n",
       "      <td>Action|Adventure|Drama|Sci-Fi|War</td>\n",
       "    </tr>\n",
       "    <tr>\n",
       "      <th>1250</th>\n",
       "      <td>1270</td>\n",
       "      <td>Back to the Future (1985)</td>\n",
       "      <td>Comedy|Sci-Fi</td>\n",
       "    </tr>\n",
       "    <tr>\n",
       "      <th>1752</th>\n",
       "      <td>1817</td>\n",
       "      <td>No Looking Back (1998)</td>\n",
       "      <td>Comedy|Drama|Romance</td>\n",
       "    </tr>\n",
       "    <tr>\n",
       "      <th>1794</th>\n",
       "      <td>1863</td>\n",
       "      <td>Major League: Back to the Minors (1998)</td>\n",
       "      <td>Comedy</td>\n",
       "    </tr>\n",
       "    <tr>\n",
       "      <th>1942</th>\n",
       "      <td>2011</td>\n",
       "      <td>Back to the Future Part II (1989)</td>\n",
       "      <td>Comedy|Sci-Fi</td>\n",
       "    </tr>\n",
       "    <tr>\n",
       "      <th>1943</th>\n",
       "      <td>2012</td>\n",
       "      <td>Back to the Future Part III (1990)</td>\n",
       "      <td>Comedy|Sci-Fi|Western</td>\n",
       "    </tr>\n",
       "    <tr>\n",
       "      <th>2085</th>\n",
       "      <td>2154</td>\n",
       "      <td>How Stella Got Her Groove Back (1998)</td>\n",
       "      <td>Drama|Romance</td>\n",
       "    </tr>\n",
       "    <tr>\n",
       "      <th>2311</th>\n",
       "      <td>2380</td>\n",
       "      <td>Police Academy 3: Back in Training (1986)</td>\n",
       "      <td>Comedy</td>\n",
       "    </tr>\n",
       "    <tr>\n",
       "      <th>2347</th>\n",
       "      <td>2416</td>\n",
       "      <td>Back to School (1986)</td>\n",
       "      <td>Comedy</td>\n",
       "    </tr>\n",
       "    <tr>\n",
       "      <th>2483</th>\n",
       "      <td>2552</td>\n",
       "      <td>My Boyfriend's Back (1993)</td>\n",
       "      <td>Comedy</td>\n",
       "    </tr>\n",
       "    <tr>\n",
       "      <th>3038</th>\n",
       "      <td>3107</td>\n",
       "      <td>Backdraft (1991)</td>\n",
       "      <td>Action|Drama</td>\n",
       "    </tr>\n",
       "    <tr>\n",
       "      <th>3179</th>\n",
       "      <td>3248</td>\n",
       "      <td>Sister Act 2: Back in the Habit (1993)</td>\n",
       "      <td>Comedy</td>\n",
       "    </tr>\n",
       "    <tr>\n",
       "      <th>3331</th>\n",
       "      <td>3400</td>\n",
       "      <td>We're Back! A Dinosaur's Story (1993)</td>\n",
       "      <td>Animation|Children's</td>\n",
       "    </tr>\n",
       "    <tr>\n",
       "      <th>3817</th>\n",
       "      <td>3887</td>\n",
       "      <td>Went to Coney Island on a Mission From God... ...</td>\n",
       "      <td>Drama</td>\n",
       "    </tr>\n",
       "    <tr>\n",
       "      <th>3820</th>\n",
       "      <td>3890</td>\n",
       "      <td>Back Stage (2000)</td>\n",
       "      <td>Documentary</td>\n",
       "    </tr>\n",
       "  </tbody>\n",
       "</table>\n",
       "</div>"
      ],
      "text/plain": [
       "      movie_id                                              title  \\\n",
       "342        346                                    Backbeat (1993)   \n",
       "1154      1170         Best of the Best 3: No Turning Back (1995)   \n",
       "1178      1196  Star Wars: Episode V - The Empire Strikes Back...   \n",
       "1250      1270                          Back to the Future (1985)   \n",
       "1752      1817                             No Looking Back (1998)   \n",
       "1794      1863            Major League: Back to the Minors (1998)   \n",
       "1942      2011                  Back to the Future Part II (1989)   \n",
       "1943      2012                 Back to the Future Part III (1990)   \n",
       "2085      2154              How Stella Got Her Groove Back (1998)   \n",
       "2311      2380          Police Academy 3: Back in Training (1986)   \n",
       "2347      2416                              Back to School (1986)   \n",
       "2483      2552                         My Boyfriend's Back (1993)   \n",
       "3038      3107                                   Backdraft (1991)   \n",
       "3179      3248             Sister Act 2: Back in the Habit (1993)   \n",
       "3331      3400              We're Back! A Dinosaur's Story (1993)   \n",
       "3817      3887  Went to Coney Island on a Mission From God... ...   \n",
       "3820      3890                                  Back Stage (2000)   \n",
       "\n",
       "                                  genre  \n",
       "342                       Drama|Musical  \n",
       "1154                             Action  \n",
       "1178  Action|Adventure|Drama|Sci-Fi|War  \n",
       "1250                      Comedy|Sci-Fi  \n",
       "1752               Comedy|Drama|Romance  \n",
       "1794                             Comedy  \n",
       "1942                      Comedy|Sci-Fi  \n",
       "1943              Comedy|Sci-Fi|Western  \n",
       "2085                      Drama|Romance  \n",
       "2311                             Comedy  \n",
       "2347                             Comedy  \n",
       "2483                             Comedy  \n",
       "3038                       Action|Drama  \n",
       "3179                             Comedy  \n",
       "3331               Animation|Children's  \n",
       "3817                              Drama  \n",
       "3820                        Documentary  "
      ]
     },
     "execution_count": 14,
     "metadata": {},
     "output_type": "execute_result"
    }
   ],
   "source": [
    "movies[movies['title'].str.contains(\"Back\")]"
   ]
  },
  {
   "cell_type": "code",
   "execution_count": 15,
   "id": "9a4870e5",
   "metadata": {},
   "outputs": [
    {
     "data": {
      "text/html": [
       "<div>\n",
       "<style scoped>\n",
       "    .dataframe tbody tr th:only-of-type {\n",
       "        vertical-align: middle;\n",
       "    }\n",
       "\n",
       "    .dataframe tbody tr th {\n",
       "        vertical-align: top;\n",
       "    }\n",
       "\n",
       "    .dataframe thead th {\n",
       "        text-align: right;\n",
       "    }\n",
       "</style>\n",
       "<table border=\"1\" class=\"dataframe\">\n",
       "  <thead>\n",
       "    <tr style=\"text-align: right;\">\n",
       "      <th></th>\n",
       "      <th>movie_id</th>\n",
       "      <th>title</th>\n",
       "      <th>genre</th>\n",
       "    </tr>\n",
       "  </thead>\n",
       "  <tbody>\n",
       "    <tr>\n",
       "      <th>1892</th>\n",
       "      <td>1961</td>\n",
       "      <td>Rain Man (1988)</td>\n",
       "      <td>Drama</td>\n",
       "    </tr>\n",
       "  </tbody>\n",
       "</table>\n",
       "</div>"
      ],
      "text/plain": [
       "      movie_id            title  genre\n",
       "1892      1961  Rain Man (1988)  Drama"
      ]
     },
     "execution_count": 15,
     "metadata": {},
     "output_type": "execute_result"
    }
   ],
   "source": [
    "movies[movies['title'].str.contains(\"Rain Man\")]"
   ]
  },
  {
   "cell_type": "code",
   "execution_count": 16,
   "id": "6a7e4139",
   "metadata": {},
   "outputs": [
    {
     "data": {
      "text/html": [
       "<div>\n",
       "<style scoped>\n",
       "    .dataframe tbody tr th:only-of-type {\n",
       "        vertical-align: middle;\n",
       "    }\n",
       "\n",
       "    .dataframe tbody tr th {\n",
       "        vertical-align: top;\n",
       "    }\n",
       "\n",
       "    .dataframe thead th {\n",
       "        text-align: right;\n",
       "    }\n",
       "</style>\n",
       "<table border=\"1\" class=\"dataframe\">\n",
       "  <thead>\n",
       "    <tr style=\"text-align: right;\">\n",
       "      <th></th>\n",
       "      <th>user_id</th>\n",
       "      <th>movie_id</th>\n",
       "      <th>counts</th>\n",
       "      <th>timestamp</th>\n",
       "    </tr>\n",
       "  </thead>\n",
       "  <tbody>\n",
       "    <tr>\n",
       "      <th>1000203</th>\n",
       "      <td>6040</td>\n",
       "      <td>1090</td>\n",
       "      <td>3</td>\n",
       "      <td>956715518.0</td>\n",
       "    </tr>\n",
       "    <tr>\n",
       "      <th>1000205</th>\n",
       "      <td>6040</td>\n",
       "      <td>1094</td>\n",
       "      <td>5</td>\n",
       "      <td>956704887.0</td>\n",
       "    </tr>\n",
       "    <tr>\n",
       "      <th>1000206</th>\n",
       "      <td>6040</td>\n",
       "      <td>562</td>\n",
       "      <td>5</td>\n",
       "      <td>956704746.0</td>\n",
       "    </tr>\n",
       "    <tr>\n",
       "      <th>1000207</th>\n",
       "      <td>6040</td>\n",
       "      <td>1096</td>\n",
       "      <td>4</td>\n",
       "      <td>956715648.0</td>\n",
       "    </tr>\n",
       "    <tr>\n",
       "      <th>1000208</th>\n",
       "      <td>6040</td>\n",
       "      <td>1097</td>\n",
       "      <td>4</td>\n",
       "      <td>956715569.0</td>\n",
       "    </tr>\n",
       "    <tr>\n",
       "      <th>1250</th>\n",
       "      <td>kim</td>\n",
       "      <td>1270</td>\n",
       "      <td>5</td>\n",
       "      <td>NaN</td>\n",
       "    </tr>\n",
       "    <tr>\n",
       "      <th>1892</th>\n",
       "      <td>kim</td>\n",
       "      <td>1961</td>\n",
       "      <td>4</td>\n",
       "      <td>NaN</td>\n",
       "    </tr>\n",
       "    <tr>\n",
       "      <th>2286</th>\n",
       "      <td>kim</td>\n",
       "      <td>2355</td>\n",
       "      <td>4</td>\n",
       "      <td>NaN</td>\n",
       "    </tr>\n",
       "    <tr>\n",
       "      <th>2548</th>\n",
       "      <td>kim</td>\n",
       "      <td>2617</td>\n",
       "      <td>5</td>\n",
       "      <td>NaN</td>\n",
       "    </tr>\n",
       "    <tr>\n",
       "      <th>3045</th>\n",
       "      <td>kim</td>\n",
       "      <td>3114</td>\n",
       "      <td>4</td>\n",
       "      <td>NaN</td>\n",
       "    </tr>\n",
       "  </tbody>\n",
       "</table>\n",
       "</div>"
      ],
      "text/plain": [
       "        user_id  movie_id  counts    timestamp\n",
       "1000203    6040      1090       3  956715518.0\n",
       "1000205    6040      1094       5  956704887.0\n",
       "1000206    6040       562       5  956704746.0\n",
       "1000207    6040      1096       4  956715648.0\n",
       "1000208    6040      1097       4  956715569.0\n",
       "1250        kim      1270       5          NaN\n",
       "1892        kim      1961       4          NaN\n",
       "2286        kim      2355       4          NaN\n",
       "2548        kim      2617       5          NaN\n",
       "3045        kim      3114       4          NaN"
      ]
     },
     "execution_count": 16,
     "metadata": {},
     "output_type": "execute_result"
    }
   ],
   "source": [
    "my_movies = [\"Toy Story 2 (1999)\", \"Bug's Life, A (1998)\", \"Mummy, The (1999)\", \"Back to the Future (1985)\", \"Rain Man (1988)\"]\n",
    "df_movie = movies[movies['title'].isin(my_movies)]\n",
    "\n",
    "my_counts = [5, 4, 4, 5, 4]\n",
    "my_movie_list = pd.DataFrame({'user_id':['kim']*5, 'movie_id': df_movie['movie_id'], 'counts':my_counts})\n",
    "\n",
    "if not data.isin({'user_id':['kim']})['user_id'].any():\n",
    "    ratings = ratings.append(my_movie_list)            \n",
    "\n",
    "ratings.tail(10)"
   ]
  },
  {
   "cell_type": "code",
   "execution_count": 17,
   "id": "002dd9c1",
   "metadata": {},
   "outputs": [
    {
     "data": {
      "text/html": [
       "<div>\n",
       "<style scoped>\n",
       "    .dataframe tbody tr th:only-of-type {\n",
       "        vertical-align: middle;\n",
       "    }\n",
       "\n",
       "    .dataframe tbody tr th {\n",
       "        vertical-align: top;\n",
       "    }\n",
       "\n",
       "    .dataframe thead th {\n",
       "        text-align: right;\n",
       "    }\n",
       "</style>\n",
       "<table border=\"1\" class=\"dataframe\">\n",
       "  <thead>\n",
       "    <tr style=\"text-align: right;\">\n",
       "      <th></th>\n",
       "      <th>user_id</th>\n",
       "      <th>movie_id</th>\n",
       "      <th>counts</th>\n",
       "    </tr>\n",
       "  </thead>\n",
       "  <tbody>\n",
       "    <tr>\n",
       "      <th>0</th>\n",
       "      <td>1</td>\n",
       "      <td>1193</td>\n",
       "      <td>5</td>\n",
       "    </tr>\n",
       "    <tr>\n",
       "      <th>1</th>\n",
       "      <td>1</td>\n",
       "      <td>661</td>\n",
       "      <td>3</td>\n",
       "    </tr>\n",
       "    <tr>\n",
       "      <th>2</th>\n",
       "      <td>1</td>\n",
       "      <td>914</td>\n",
       "      <td>3</td>\n",
       "    </tr>\n",
       "    <tr>\n",
       "      <th>3</th>\n",
       "      <td>1</td>\n",
       "      <td>3408</td>\n",
       "      <td>4</td>\n",
       "    </tr>\n",
       "    <tr>\n",
       "      <th>4</th>\n",
       "      <td>1</td>\n",
       "      <td>2355</td>\n",
       "      <td>5</td>\n",
       "    </tr>\n",
       "    <tr>\n",
       "      <th>...</th>\n",
       "      <td>...</td>\n",
       "      <td>...</td>\n",
       "      <td>...</td>\n",
       "    </tr>\n",
       "    <tr>\n",
       "      <th>1250</th>\n",
       "      <td>kim</td>\n",
       "      <td>1270</td>\n",
       "      <td>5</td>\n",
       "    </tr>\n",
       "    <tr>\n",
       "      <th>1892</th>\n",
       "      <td>kim</td>\n",
       "      <td>1961</td>\n",
       "      <td>4</td>\n",
       "    </tr>\n",
       "    <tr>\n",
       "      <th>2286</th>\n",
       "      <td>kim</td>\n",
       "      <td>2355</td>\n",
       "      <td>4</td>\n",
       "    </tr>\n",
       "    <tr>\n",
       "      <th>2548</th>\n",
       "      <td>kim</td>\n",
       "      <td>2617</td>\n",
       "      <td>5</td>\n",
       "    </tr>\n",
       "    <tr>\n",
       "      <th>3045</th>\n",
       "      <td>kim</td>\n",
       "      <td>3114</td>\n",
       "      <td>4</td>\n",
       "    </tr>\n",
       "  </tbody>\n",
       "</table>\n",
       "<p>836483 rows × 3 columns</p>\n",
       "</div>"
      ],
      "text/plain": [
       "     user_id  movie_id  counts\n",
       "0          1      1193       5\n",
       "1          1       661       3\n",
       "2          1       914       3\n",
       "3          1      3408       4\n",
       "4          1      2355       5\n",
       "...      ...       ...     ...\n",
       "1250     kim      1270       5\n",
       "1892     kim      1961       4\n",
       "2286     kim      2355       4\n",
       "2548     kim      2617       5\n",
       "3045     kim      3114       4\n",
       "\n",
       "[836483 rows x 3 columns]"
      ]
     },
     "execution_count": 17,
     "metadata": {},
     "output_type": "execute_result"
    }
   ],
   "source": [
    "rating_ = ratings.copy()\n",
    "del rating_['timestamp']\n",
    "rating_"
   ]
  },
  {
   "cell_type": "code",
   "execution_count": 18,
   "id": "27d43154",
   "metadata": {},
   "outputs": [
    {
     "data": {
      "text/html": [
       "<div>\n",
       "<style scoped>\n",
       "    .dataframe tbody tr th:only-of-type {\n",
       "        vertical-align: middle;\n",
       "    }\n",
       "\n",
       "    .dataframe tbody tr th {\n",
       "        vertical-align: top;\n",
       "    }\n",
       "\n",
       "    .dataframe thead th {\n",
       "        text-align: right;\n",
       "    }\n",
       "</style>\n",
       "<table border=\"1\" class=\"dataframe\">\n",
       "  <thead>\n",
       "    <tr style=\"text-align: right;\">\n",
       "      <th></th>\n",
       "      <th>user_id</th>\n",
       "      <th>movie_id</th>\n",
       "      <th>counts</th>\n",
       "      <th>title</th>\n",
       "      <th>genre</th>\n",
       "    </tr>\n",
       "  </thead>\n",
       "  <tbody>\n",
       "    <tr>\n",
       "      <th>0</th>\n",
       "      <td>1</td>\n",
       "      <td>1193</td>\n",
       "      <td>5</td>\n",
       "      <td>One Flew Over the Cuckoo's Nest (1975)</td>\n",
       "      <td>Drama</td>\n",
       "    </tr>\n",
       "    <tr>\n",
       "      <th>1</th>\n",
       "      <td>2</td>\n",
       "      <td>1193</td>\n",
       "      <td>5</td>\n",
       "      <td>One Flew Over the Cuckoo's Nest (1975)</td>\n",
       "      <td>Drama</td>\n",
       "    </tr>\n",
       "    <tr>\n",
       "      <th>2</th>\n",
       "      <td>12</td>\n",
       "      <td>1193</td>\n",
       "      <td>4</td>\n",
       "      <td>One Flew Over the Cuckoo's Nest (1975)</td>\n",
       "      <td>Drama</td>\n",
       "    </tr>\n",
       "    <tr>\n",
       "      <th>3</th>\n",
       "      <td>15</td>\n",
       "      <td>1193</td>\n",
       "      <td>4</td>\n",
       "      <td>One Flew Over the Cuckoo's Nest (1975)</td>\n",
       "      <td>Drama</td>\n",
       "    </tr>\n",
       "    <tr>\n",
       "      <th>4</th>\n",
       "      <td>17</td>\n",
       "      <td>1193</td>\n",
       "      <td>5</td>\n",
       "      <td>One Flew Over the Cuckoo's Nest (1975)</td>\n",
       "      <td>Drama</td>\n",
       "    </tr>\n",
       "    <tr>\n",
       "      <th>...</th>\n",
       "      <td>...</td>\n",
       "      <td>...</td>\n",
       "      <td>...</td>\n",
       "      <td>...</td>\n",
       "      <td>...</td>\n",
       "    </tr>\n",
       "    <tr>\n",
       "      <th>836478</th>\n",
       "      <td>5851</td>\n",
       "      <td>3607</td>\n",
       "      <td>5</td>\n",
       "      <td>One Little Indian (1973)</td>\n",
       "      <td>Comedy|Drama|Western</td>\n",
       "    </tr>\n",
       "    <tr>\n",
       "      <th>836479</th>\n",
       "      <td>5854</td>\n",
       "      <td>3026</td>\n",
       "      <td>4</td>\n",
       "      <td>Slaughterhouse (1987)</td>\n",
       "      <td>Horror</td>\n",
       "    </tr>\n",
       "    <tr>\n",
       "      <th>836480</th>\n",
       "      <td>5854</td>\n",
       "      <td>690</td>\n",
       "      <td>3</td>\n",
       "      <td>Promise, The (Versprechen, Das) (1994)</td>\n",
       "      <td>Romance</td>\n",
       "    </tr>\n",
       "    <tr>\n",
       "      <th>836481</th>\n",
       "      <td>5938</td>\n",
       "      <td>2909</td>\n",
       "      <td>4</td>\n",
       "      <td>Five Wives, Three Secretaries and Me (1998)</td>\n",
       "      <td>Documentary</td>\n",
       "    </tr>\n",
       "    <tr>\n",
       "      <th>836482</th>\n",
       "      <td>5948</td>\n",
       "      <td>1360</td>\n",
       "      <td>5</td>\n",
       "      <td>Identification of a Woman (Identificazione di ...</td>\n",
       "      <td>Drama</td>\n",
       "    </tr>\n",
       "  </tbody>\n",
       "</table>\n",
       "<p>836483 rows × 5 columns</p>\n",
       "</div>"
      ],
      "text/plain": [
       "       user_id  movie_id  counts  \\\n",
       "0            1      1193       5   \n",
       "1            2      1193       5   \n",
       "2           12      1193       4   \n",
       "3           15      1193       4   \n",
       "4           17      1193       5   \n",
       "...        ...       ...     ...   \n",
       "836478    5851      3607       5   \n",
       "836479    5854      3026       4   \n",
       "836480    5854       690       3   \n",
       "836481    5938      2909       4   \n",
       "836482    5948      1360       5   \n",
       "\n",
       "                                                    title  \\\n",
       "0                  One Flew Over the Cuckoo's Nest (1975)   \n",
       "1                  One Flew Over the Cuckoo's Nest (1975)   \n",
       "2                  One Flew Over the Cuckoo's Nest (1975)   \n",
       "3                  One Flew Over the Cuckoo's Nest (1975)   \n",
       "4                  One Flew Over the Cuckoo's Nest (1975)   \n",
       "...                                                   ...   \n",
       "836478                           One Little Indian (1973)   \n",
       "836479                              Slaughterhouse (1987)   \n",
       "836480             Promise, The (Versprechen, Das) (1994)   \n",
       "836481        Five Wives, Three Secretaries and Me (1998)   \n",
       "836482  Identification of a Woman (Identificazione di ...   \n",
       "\n",
       "                       genre  \n",
       "0                      Drama  \n",
       "1                      Drama  \n",
       "2                      Drama  \n",
       "3                      Drama  \n",
       "4                      Drama  \n",
       "...                      ...  \n",
       "836478  Comedy|Drama|Western  \n",
       "836479                Horror  \n",
       "836480               Romance  \n",
       "836481           Documentary  \n",
       "836482                 Drama  \n",
       "\n",
       "[836483 rows x 5 columns]"
      ]
     },
     "execution_count": 18,
     "metadata": {},
     "output_type": "execute_result"
    }
   ],
   "source": [
    "data = pd.merge(rating_, movies)\n",
    "data"
   ]
  },
  {
   "cell_type": "code",
   "execution_count": 19,
   "id": "89b83225",
   "metadata": {},
   "outputs": [],
   "source": [
    "# 고유한 유저, 영화를 찾아내는 코드\n",
    "user_unique = data['user_id'].unique()\n",
    "movie_unique = data['title'].unique()\n",
    "\n",
    "# 유저, 아티스트 indexing 하는 코드 idx는 index의 약자입니다.\n",
    "user_to_idx = {v:k for k,v in enumerate(user_unique)}\n",
    "movie_to_idx = {v:k for k,v in enumerate(movie_unique)}"
   ]
  },
  {
   "cell_type": "code",
   "execution_count": 20,
   "id": "c59c02e7",
   "metadata": {},
   "outputs": [
    {
     "name": "stdout",
     "output_type": "stream",
     "text": [
      "3497\n",
      "50\n"
     ]
    }
   ],
   "source": [
    "# 인덱싱이 잘 되었는지 확인해 봅니다. \n",
    "print(user_to_idx['kim'])\n",
    "print(movie_to_idx['Toy Story 2 (1999)'])"
   ]
  },
  {
   "cell_type": "code",
   "execution_count": 21,
   "id": "8418c789",
   "metadata": {},
   "outputs": [
    {
     "name": "stdout",
     "output_type": "stream",
     "text": [
      "user_id column indexing OK!!\n",
      "title column indexing OK!!\n"
     ]
    },
    {
     "data": {
      "text/html": [
       "<div>\n",
       "<style scoped>\n",
       "    .dataframe tbody tr th:only-of-type {\n",
       "        vertical-align: middle;\n",
       "    }\n",
       "\n",
       "    .dataframe tbody tr th {\n",
       "        vertical-align: top;\n",
       "    }\n",
       "\n",
       "    .dataframe thead th {\n",
       "        text-align: right;\n",
       "    }\n",
       "</style>\n",
       "<table border=\"1\" class=\"dataframe\">\n",
       "  <thead>\n",
       "    <tr style=\"text-align: right;\">\n",
       "      <th></th>\n",
       "      <th>user_id</th>\n",
       "      <th>movie_id</th>\n",
       "      <th>counts</th>\n",
       "      <th>title</th>\n",
       "      <th>genre</th>\n",
       "    </tr>\n",
       "  </thead>\n",
       "  <tbody>\n",
       "    <tr>\n",
       "      <th>0</th>\n",
       "      <td>0</td>\n",
       "      <td>1193</td>\n",
       "      <td>5</td>\n",
       "      <td>0</td>\n",
       "      <td>Drama</td>\n",
       "    </tr>\n",
       "    <tr>\n",
       "      <th>1</th>\n",
       "      <td>1</td>\n",
       "      <td>1193</td>\n",
       "      <td>5</td>\n",
       "      <td>0</td>\n",
       "      <td>Drama</td>\n",
       "    </tr>\n",
       "    <tr>\n",
       "      <th>2</th>\n",
       "      <td>2</td>\n",
       "      <td>1193</td>\n",
       "      <td>4</td>\n",
       "      <td>0</td>\n",
       "      <td>Drama</td>\n",
       "    </tr>\n",
       "    <tr>\n",
       "      <th>3</th>\n",
       "      <td>3</td>\n",
       "      <td>1193</td>\n",
       "      <td>4</td>\n",
       "      <td>0</td>\n",
       "      <td>Drama</td>\n",
       "    </tr>\n",
       "    <tr>\n",
       "      <th>4</th>\n",
       "      <td>4</td>\n",
       "      <td>1193</td>\n",
       "      <td>5</td>\n",
       "      <td>0</td>\n",
       "      <td>Drama</td>\n",
       "    </tr>\n",
       "    <tr>\n",
       "      <th>...</th>\n",
       "      <td>...</td>\n",
       "      <td>...</td>\n",
       "      <td>...</td>\n",
       "      <td>...</td>\n",
       "      <td>...</td>\n",
       "    </tr>\n",
       "    <tr>\n",
       "      <th>836478</th>\n",
       "      <td>1621</td>\n",
       "      <td>3607</td>\n",
       "      <td>5</td>\n",
       "      <td>3623</td>\n",
       "      <td>Comedy|Drama|Western</td>\n",
       "    </tr>\n",
       "    <tr>\n",
       "      <th>836479</th>\n",
       "      <td>3481</td>\n",
       "      <td>3026</td>\n",
       "      <td>4</td>\n",
       "      <td>3624</td>\n",
       "      <td>Horror</td>\n",
       "    </tr>\n",
       "    <tr>\n",
       "      <th>836480</th>\n",
       "      <td>3481</td>\n",
       "      <td>690</td>\n",
       "      <td>3</td>\n",
       "      <td>3625</td>\n",
       "      <td>Romance</td>\n",
       "    </tr>\n",
       "    <tr>\n",
       "      <th>836481</th>\n",
       "      <td>4160</td>\n",
       "      <td>2909</td>\n",
       "      <td>4</td>\n",
       "      <td>3626</td>\n",
       "      <td>Documentary</td>\n",
       "    </tr>\n",
       "    <tr>\n",
       "      <th>836482</th>\n",
       "      <td>1648</td>\n",
       "      <td>1360</td>\n",
       "      <td>5</td>\n",
       "      <td>3627</td>\n",
       "      <td>Drama</td>\n",
       "    </tr>\n",
       "  </tbody>\n",
       "</table>\n",
       "<p>836483 rows × 5 columns</p>\n",
       "</div>"
      ],
      "text/plain": [
       "        user_id  movie_id  counts  title                 genre\n",
       "0             0      1193       5      0                 Drama\n",
       "1             1      1193       5      0                 Drama\n",
       "2             2      1193       4      0                 Drama\n",
       "3             3      1193       4      0                 Drama\n",
       "4             4      1193       5      0                 Drama\n",
       "...         ...       ...     ...    ...                   ...\n",
       "836478     1621      3607       5   3623  Comedy|Drama|Western\n",
       "836479     3481      3026       4   3624                Horror\n",
       "836480     3481       690       3   3625               Romance\n",
       "836481     4160      2909       4   3626           Documentary\n",
       "836482     1648      1360       5   3627                 Drama\n",
       "\n",
       "[836483 rows x 5 columns]"
      ]
     },
     "execution_count": 21,
     "metadata": {},
     "output_type": "execute_result"
    }
   ],
   "source": [
    "# indexing을 통해 데이터 컬럼 내 값을 바꾸는 코드\n",
    "\n",
    "# user_to_idx.get을 통해 user_id 컬럼의 모든 값을 인덱싱한 Series를 구해 봅시다. \n",
    "# 혹시 정상적으로 인덱싱되지 않은 row가 있다면 인덱스가 NaN이 될 테니 dropna()로 제거합니다. \n",
    "temp_user_data = data['user_id'].map(user_to_idx.get).dropna()\n",
    "if len(temp_user_data) == len(data):   # 모든 row가 정상적으로 인덱싱되었다면\n",
    "    print('user_id column indexing OK!!')\n",
    "    data['user_id'] = temp_user_data   # data['user_id']을 인덱싱된 Series로 교체해 줍니다. \n",
    "else:\n",
    "    print('user_id column indexing Fail!!')\n",
    "\n",
    "# artist_to_idx을 통해 artist 컬럼도 동일한 방식으로 인덱싱해 줍니다. \n",
    "temp_title_data = data['title'].map(movie_to_idx.get).dropna()\n",
    "if len(temp_title_data) == len(data):\n",
    "    print('title column indexing OK!!')\n",
    "    data['title'] = temp_title_data\n",
    "else:\n",
    "    print('title column indexing Fail!!')\n",
    "\n",
    "data"
   ]
  },
  {
   "cell_type": "markdown",
   "id": "17804b04",
   "metadata": {},
   "source": [
    "### 4. CSR matrix"
   ]
  },
  {
   "cell_type": "code",
   "execution_count": 22,
   "id": "6de82f27",
   "metadata": {},
   "outputs": [
    {
     "data": {
      "text/plain": [
       "<6040x3628 sparse matrix of type '<class 'numpy.int64'>'\n",
       "\twith 836483 stored elements in Compressed Sparse Row format>"
      ]
     },
     "execution_count": 22,
     "metadata": {},
     "output_type": "execute_result"
    }
   ],
   "source": [
    "from scipy.sparse import csr_matrix\n",
    "\n",
    "num_user = data['user_id'].nunique()\n",
    "num_title = data['title'].nunique()\n",
    "\n",
    "csr_data = csr_matrix((data.counts, (data.user_id, data.title)), shape= (num_user, num_title))\n",
    "csr_data"
   ]
  },
  {
   "cell_type": "markdown",
   "id": "cd48a374",
   "metadata": {},
   "source": [
    "### 5. als_model = AlternatingLeastSquares 모델"
   ]
  },
  {
   "cell_type": "code",
   "execution_count": 23,
   "id": "8f7dcb9a",
   "metadata": {},
   "outputs": [],
   "source": [
    "from implicit.als import AlternatingLeastSquares\n",
    "import os\n",
    "import numpy as np\n",
    "\n",
    "# implicit 라이브러리에서 권장하고 있는 부분입니다. 학습 내용과는 무관합니다.\n",
    "os.environ['OPENBLAS_NUM_THREADS']='1'\n",
    "os.environ['KMP_DUPLICATE_LIB_OK']='True'\n",
    "os.environ['MKL_NUM_THREADS']='1'"
   ]
  },
  {
   "cell_type": "code",
   "execution_count": 24,
   "id": "b3d2220c",
   "metadata": {},
   "outputs": [],
   "source": [
    "# Implicit AlternatingLeastSquares 모델 선언\n",
    "als_model = AlternatingLeastSquares(factors=100, regularization=0.01, use_gpu=False, iterations=10, dtype=np.float32)"
   ]
  },
  {
   "cell_type": "markdown",
   "id": "2739ed69",
   "metadata": {},
   "source": [
    "factors : 유저와 아이템의 벡터를 몇 차원으로 할 것인지\n",
    "\n",
    "regularization : 과적합을 방지하기 위해 정규화 값을 얼마나 사용할 것인지\n",
    "\n",
    "use_gpu : GPU를 사용할 것인지\n",
    "\n",
    "iterations : epochs와 같은 의미입니다. 데이터를 몇 번 반복해서 학습할 것인지"
   ]
  },
  {
   "cell_type": "code",
   "execution_count": 25,
   "id": "9d5960be",
   "metadata": {},
   "outputs": [
    {
     "data": {
      "text/plain": [
       "<3628x6040 sparse matrix of type '<class 'numpy.int64'>'\n",
       "\twith 836483 stored elements in Compressed Sparse Column format>"
      ]
     },
     "execution_count": 25,
     "metadata": {},
     "output_type": "execute_result"
    }
   ],
   "source": [
    "csr_data_transpose = csr_data.T\n",
    "csr_data_transpose"
   ]
  },
  {
   "cell_type": "code",
   "execution_count": 26,
   "id": "aba0627c",
   "metadata": {},
   "outputs": [
    {
     "data": {
      "application/vnd.jupyter.widget-view+json": {
       "model_id": "0ed32b53db02498da1af52116e551762",
       "version_major": 2,
       "version_minor": 0
      },
      "text/plain": [
       "  0%|          | 0/10 [00:00<?, ?it/s]"
      ]
     },
     "metadata": {},
     "output_type": "display_data"
    }
   ],
   "source": [
    "# 모델 훈련\n",
    "als_model.fit(csr_data_transpose)"
   ]
  },
  {
   "cell_type": "markdown",
   "id": "94d310c4",
   "metadata": {},
   "source": [
    "### 6. 훈련된 모델이 예측한 선호도 파악"
   ]
  },
  {
   "cell_type": "code",
   "execution_count": 27,
   "id": "88d2da05",
   "metadata": {},
   "outputs": [],
   "source": [
    "kim, Toy_Story_2 = user_to_idx['kim'], movie_to_idx['Toy Story 2 (1999)']\n",
    "kim_vector, Toy_Story_2_vector = als_model.user_factors[kim], als_model.item_factors[Toy_Story_2]"
   ]
  },
  {
   "cell_type": "code",
   "execution_count": 28,
   "id": "f6136809",
   "metadata": {},
   "outputs": [
    {
     "data": {
      "text/plain": [
       "array([ 1.0565939 , -0.04464793,  0.40099314, -0.5225664 , -0.99517703,\n",
       "        0.2429053 , -0.5822836 , -0.37561464, -0.3870343 ,  0.24950774,\n",
       "        0.2627538 ,  0.4799959 , -0.1264827 ,  0.39542118, -0.7129365 ,\n",
       "        0.6086745 ,  0.2713171 , -0.22025229,  0.9669328 , -0.6001058 ,\n",
       "        0.06486372, -0.24717638, -0.46218875, -0.8803364 , -0.43469328,\n",
       "       -0.06417815,  0.8593464 , -0.00612804,  0.42889214,  0.54060644,\n",
       "       -0.34655422, -0.18896367, -0.6457375 , -0.03749653,  0.27663803,\n",
       "       -0.28263468, -1.0175484 ,  0.3533562 ,  0.47690973,  1.3579164 ,\n",
       "       -1.2406965 , -0.42679298, -0.514296  , -0.38311145,  0.81684494,\n",
       "       -0.6068054 , -0.11955594, -0.1798474 ,  0.10800018, -0.05377822,\n",
       "        0.06599417,  0.30217463, -0.0302417 ,  1.207347  , -0.31122836,\n",
       "       -0.15966147, -0.41670558,  1.1057633 , -0.62779635, -0.95389026,\n",
       "        0.7031023 ,  0.3458818 , -0.8517804 , -0.31769237,  0.68985134,\n",
       "        0.40652773, -0.7098107 , -0.13475375,  0.4520054 ,  0.4239517 ,\n",
       "       -0.4483061 , -0.5386423 , -1.075207  , -0.16140667,  1.436046  ,\n",
       "        0.56038874,  0.2850149 , -0.43869293, -0.19362815,  0.05794398,\n",
       "       -0.45277116,  0.21062194,  0.01613829, -0.28882092,  0.17420791,\n",
       "        0.35188484,  0.557516  , -0.03401954, -0.18541068,  0.5972863 ,\n",
       "        0.89029145,  0.06529122,  1.0381559 ,  0.08120359,  0.345371  ,\n",
       "        0.08111412, -0.64886   , -0.31224042,  0.4116065 ,  0.6120334 ],\n",
       "      dtype=float32)"
      ]
     },
     "execution_count": 28,
     "metadata": {},
     "output_type": "execute_result"
    }
   ],
   "source": [
    "kim_vector"
   ]
  },
  {
   "cell_type": "code",
   "execution_count": 29,
   "id": "aeccd227",
   "metadata": {},
   "outputs": [
    {
     "data": {
      "text/plain": [
       "array([ 0.01974711,  0.01631143,  0.01087052,  0.01495291, -0.02854905,\n",
       "       -0.00965167, -0.00091934, -0.01123112,  0.01015097,  0.00208326,\n",
       "        0.05107598,  0.02603824,  0.00204081,  0.00716872, -0.01517741,\n",
       "        0.01076899,  0.04150581, -0.00933775,  0.0083933 , -0.01279023,\n",
       "        0.01442979,  0.01374867, -0.02509711, -0.01219993, -0.01698417,\n",
       "        0.01822978,  0.03100902, -0.01124313,  0.02931611,  0.03140271,\n",
       "       -0.00643724,  0.01908354, -0.01429253,  0.02252007, -0.01471191,\n",
       "       -0.00435515, -0.03654758, -0.00875476,  0.00106104,  0.03540701,\n",
       "       -0.01735595,  0.01056255, -0.00496419, -0.00080487,  0.01681093,\n",
       "       -0.0030865 , -0.02120237,  0.00801989,  0.01133874, -0.01269109,\n",
       "       -0.00531364,  0.02894613, -0.0041486 ,  0.04425262, -0.00887534,\n",
       "       -0.00075101, -0.01458459,  0.04519329, -0.03072909, -0.02435962,\n",
       "       -0.02739926,  0.00886504, -0.01245857,  0.00529717,  0.01364753,\n",
       "        0.0165964 ,  0.00051147, -0.02085187,  0.013886  ,  0.0135435 ,\n",
       "       -0.0061816 ,  0.02892778, -0.01493949,  0.0227485 ,  0.0468723 ,\n",
       "        0.03791074,  0.00682959, -0.03396285,  0.00016207,  0.00287018,\n",
       "       -0.01248583,  0.02466031,  0.02411919,  0.03133446, -0.0009555 ,\n",
       "        0.00252399,  0.0213904 ,  0.0087644 ,  0.00409841, -0.0023306 ,\n",
       "        0.00884573, -0.01336906,  0.04663094, -0.01438204, -0.00872207,\n",
       "        0.02586035, -0.00849975, -0.02353888,  0.01648442,  0.01808816],\n",
       "      dtype=float32)"
      ]
     },
     "execution_count": 29,
     "metadata": {},
     "output_type": "execute_result"
    }
   ],
   "source": [
    "Toy_Story_2_vector"
   ]
  },
  {
   "cell_type": "code",
   "execution_count": 30,
   "id": "ac5a420a",
   "metadata": {},
   "outputs": [
    {
     "data": {
      "text/plain": [
       "0.71509206"
      ]
     },
     "execution_count": 30,
     "metadata": {},
     "output_type": "execute_result"
    }
   ],
   "source": [
    "np.dot(kim_vector, Toy_Story_2_vector)"
   ]
  },
  {
   "cell_type": "markdown",
   "id": "36a3cfed",
   "metadata": {},
   "source": [
    "- 사용자와 아이템 벡터 내적수가 적절하게 형성된 것으로 보인다."
   ]
  },
  {
   "cell_type": "code",
   "execution_count": 31,
   "id": "18eae432",
   "metadata": {},
   "outputs": [
    {
     "data": {
      "text/html": [
       "<div>\n",
       "<style scoped>\n",
       "    .dataframe tbody tr th:only-of-type {\n",
       "        vertical-align: middle;\n",
       "    }\n",
       "\n",
       "    .dataframe tbody tr th {\n",
       "        vertical-align: top;\n",
       "    }\n",
       "\n",
       "    .dataframe thead th {\n",
       "        text-align: right;\n",
       "    }\n",
       "</style>\n",
       "<table border=\"1\" class=\"dataframe\">\n",
       "  <thead>\n",
       "    <tr style=\"text-align: right;\">\n",
       "      <th></th>\n",
       "      <th>movie_id</th>\n",
       "      <th>title</th>\n",
       "      <th>genre</th>\n",
       "    </tr>\n",
       "  </thead>\n",
       "  <tbody>\n",
       "    <tr>\n",
       "      <th>1838</th>\n",
       "      <td>1907</td>\n",
       "      <td>Mulan (1998)</td>\n",
       "      <td>Animation|Children's</td>\n",
       "    </tr>\n",
       "  </tbody>\n",
       "</table>\n",
       "</div>"
      ],
      "text/plain": [
       "      movie_id         title                 genre\n",
       "1838      1907  Mulan (1998)  Animation|Children's"
      ]
     },
     "execution_count": 31,
     "metadata": {},
     "output_type": "execute_result"
    }
   ],
   "source": [
    "movies[movies['title'].str.contains(\"Mulan\")]"
   ]
  },
  {
   "cell_type": "code",
   "execution_count": 32,
   "id": "dfbc9972",
   "metadata": {},
   "outputs": [
    {
     "data": {
      "text/plain": [
       "0.12118954"
      ]
     },
     "execution_count": 32,
     "metadata": {},
     "output_type": "execute_result"
    }
   ],
   "source": [
    "mulan = movie_to_idx['Mulan (1998)']\n",
    "mulan_vector = als_model.item_factors[mulan]\n",
    "np.dot(kim_vector, mulan_vector)"
   ]
  },
  {
   "cell_type": "markdown",
   "id": "2483c6f2",
   "metadata": {},
   "source": [
    "### 7. 내가 좋아하는 영화와 비슷한 영화를 추천받기"
   ]
  },
  {
   "cell_type": "code",
   "execution_count": 33,
   "id": "759ac716",
   "metadata": {},
   "outputs": [
    {
     "data": {
      "text/html": [
       "<div>\n",
       "<style scoped>\n",
       "    .dataframe tbody tr th:only-of-type {\n",
       "        vertical-align: middle;\n",
       "    }\n",
       "\n",
       "    .dataframe tbody tr th {\n",
       "        vertical-align: top;\n",
       "    }\n",
       "\n",
       "    .dataframe thead th {\n",
       "        text-align: right;\n",
       "    }\n",
       "</style>\n",
       "<table border=\"1\" class=\"dataframe\">\n",
       "  <thead>\n",
       "    <tr style=\"text-align: right;\">\n",
       "      <th></th>\n",
       "      <th>movie_id</th>\n",
       "      <th>title</th>\n",
       "      <th>genre</th>\n",
       "    </tr>\n",
       "  </thead>\n",
       "  <tbody>\n",
       "    <tr>\n",
       "      <th>2255</th>\n",
       "      <td>2324</td>\n",
       "      <td>Life Is Beautiful (La Vita è bella) (1997)</td>\n",
       "      <td>Comedy|Drama</td>\n",
       "    </tr>\n",
       "  </tbody>\n",
       "</table>\n",
       "</div>"
      ],
      "text/plain": [
       "      movie_id                                       title         genre\n",
       "2255      2324  Life Is Beautiful (La Vita è bella) (1997)  Comedy|Drama"
      ]
     },
     "execution_count": 33,
     "metadata": {},
     "output_type": "execute_result"
    }
   ],
   "source": [
    "movies[movies['title'].str.contains(\"Life Is Beautiful\")]"
   ]
  },
  {
   "cell_type": "code",
   "execution_count": 34,
   "id": "d74250c0",
   "metadata": {},
   "outputs": [
    {
     "data": {
      "text/plain": [
       "[(450, 1.0000001),\n",
       " (122, 0.46118823),\n",
       " (98, 0.42904216),\n",
       " (424, 0.37354583),\n",
       " (473, 0.3676077),\n",
       " (757, 0.34641474),\n",
       " (53, 0.34543654),\n",
       " (732, 0.3406331),\n",
       " (154, 0.33739048),\n",
       " (481, 0.33464164),\n",
       " (1898, 0.33117723),\n",
       " (55, 0.32725868),\n",
       " (1471, 0.3255626),\n",
       " (445, 0.30891165),\n",
       " (90, 0.30500728)]"
      ]
     },
     "execution_count": 34,
     "metadata": {},
     "output_type": "execute_result"
    }
   ],
   "source": [
    "favorite_movie = 'Life Is Beautiful (La Vita è bella) (1997)'\n",
    "movie_id = movie_to_idx[favorite_movie]\n",
    "similar_movie = als_model.similar_items(movie_id, N=15)\n",
    "similar_movie"
   ]
  },
  {
   "cell_type": "code",
   "execution_count": 35,
   "id": "29f534ab",
   "metadata": {},
   "outputs": [
    {
     "data": {
      "text/plain": [
       "['Life Is Beautiful (La Vita è bella) (1997)',\n",
       " 'Waking Ned Devine (1998)',\n",
       " 'Misérables, Les (1998)',\n",
       " 'Misérables, Les (1995)',\n",
       " 'Hurricane, The (1999)',\n",
       " 'Full Monty, The (1997)',\n",
       " 'Shine (1996)',\n",
       " 'Immortal Beloved (1994)',\n",
       " 'As Good As It Gets (1997)',\n",
       " 'Kolya (1996)',\n",
       " 'Smoke Signals (1998)',\n",
       " 'Shall We Dance? (Shall We Dansu?) (1996)',\n",
       " 'Cinema Paradiso (1988)',\n",
       " 'Red Violin, The (Le Violon rouge) (1998)',\n",
       " 'Spanish Prisoner, The (1997)']"
      ]
     },
     "execution_count": 35,
     "metadata": {},
     "output_type": "execute_result"
    }
   ],
   "source": [
    "idx_to_movie = {v:k for k,v in movie_to_idx.items()}\n",
    "[idx_to_movie[i[0]] for i in similar_movie]"
   ]
  },
  {
   "cell_type": "code",
   "execution_count": 36,
   "id": "cbcb9b2b",
   "metadata": {},
   "outputs": [],
   "source": [
    "def get_similar_movie(movie_name: str):\n",
    "    movie_id = movie_to_idx[movie_name]\n",
    "    similar_movie = als_model.similar_items(movie_id)\n",
    "    similar_movie = [idx_to_movie[i[0]] for i in similar_movie]\n",
    "    return similar_movie"
   ]
  },
  {
   "cell_type": "code",
   "execution_count": 37,
   "id": "5c781231",
   "metadata": {},
   "outputs": [
    {
     "data": {
      "text/html": [
       "<div>\n",
       "<style scoped>\n",
       "    .dataframe tbody tr th:only-of-type {\n",
       "        vertical-align: middle;\n",
       "    }\n",
       "\n",
       "    .dataframe tbody tr th {\n",
       "        vertical-align: top;\n",
       "    }\n",
       "\n",
       "    .dataframe thead th {\n",
       "        text-align: right;\n",
       "    }\n",
       "</style>\n",
       "<table border=\"1\" class=\"dataframe\">\n",
       "  <thead>\n",
       "    <tr style=\"text-align: right;\">\n",
       "      <th></th>\n",
       "      <th>movie_id</th>\n",
       "      <th>title</th>\n",
       "      <th>genre</th>\n",
       "    </tr>\n",
       "  </thead>\n",
       "  <tbody>\n",
       "    <tr>\n",
       "      <th>727</th>\n",
       "      <td>736</td>\n",
       "      <td>Twister (1996)</td>\n",
       "      <td>Action|Adventure|Romance|Thriller</td>\n",
       "    </tr>\n",
       "  </tbody>\n",
       "</table>\n",
       "</div>"
      ],
      "text/plain": [
       "     movie_id           title                              genre\n",
       "727       736  Twister (1996)  Action|Adventure|Romance|Thriller"
      ]
     },
     "execution_count": 37,
     "metadata": {},
     "output_type": "execute_result"
    }
   ],
   "source": [
    "movies[movies['title'].str.contains(\"Twister\")]"
   ]
  },
  {
   "cell_type": "code",
   "execution_count": 38,
   "id": "d74e53a7",
   "metadata": {},
   "outputs": [
    {
     "data": {
      "text/plain": [
       "['Twister (1996)',\n",
       " 'Con Air (1997)',\n",
       " 'Cliffhanger (1993)',\n",
       " 'Independence Day (ID4) (1996)',\n",
       " 'Lethal Weapon 3 (1992)',\n",
       " 'Saint, The (1997)',\n",
       " 'G.I. Jane (1997)',\n",
       " \"Dante's Peak (1997)\",\n",
       " 'Six Days Seven Nights (1998)',\n",
       " 'River Wild, The (1994)']"
      ]
     },
     "execution_count": 38,
     "metadata": {},
     "output_type": "execute_result"
    }
   ],
   "source": [
    "get_similar_movie('Twister (1996)')"
   ]
  },
  {
   "cell_type": "markdown",
   "id": "d951c449",
   "metadata": {},
   "source": [
    "### 8. 내가 가장 좋아할 만한 영화들을 추천받기"
   ]
  },
  {
   "cell_type": "code",
   "execution_count": 39,
   "id": "6734cdf1",
   "metadata": {},
   "outputs": [
    {
     "data": {
      "text/plain": [
       "[(40, 0.46838504),\n",
       " (126, 0.268307),\n",
       " (243, 0.26733315),\n",
       " (851, 0.25840336),\n",
       " (1706, 0.23396991),\n",
       " (160, 0.20723268),\n",
       " (474, 0.20474663),\n",
       " (674, 0.19423136),\n",
       " (99, 0.18886086),\n",
       " (23, 0.18550482),\n",
       " (670, 0.18339072),\n",
       " (121, 0.18152611),\n",
       " (64, 0.17347522),\n",
       " (110, 0.17119145),\n",
       " (107, 0.16608),\n",
       " (707, 0.16578346),\n",
       " (332, 0.1656675),\n",
       " (322, 0.1643946),\n",
       " (48, 0.15972619),\n",
       " (19, 0.15756443)]"
      ]
     },
     "execution_count": 39,
     "metadata": {},
     "output_type": "execute_result"
    }
   ],
   "source": [
    "user = user_to_idx['kim']\n",
    "movie_recommended = als_model.recommend(user, csr_data, N=20, filter_already_liked_items=True)\n",
    "movie_recommended"
   ]
  },
  {
   "cell_type": "code",
   "execution_count": 40,
   "id": "cd566abc",
   "metadata": {},
   "outputs": [
    {
     "data": {
      "text/plain": [
       "['Toy Story (1995)',\n",
       " 'Shakespeare in Love (1998)',\n",
       " 'Ghostbusters (1984)',\n",
       " 'Iron Giant, The (1999)',\n",
       " 'Stuart Little (1999)',\n",
       " 'Forrest Gump (1994)',\n",
       " 'Chicken Run (2000)',\n",
       " 'Back to the Future Part II (1989)',\n",
       " 'American Beauty (1999)',\n",
       " \"Schindler's List (1993)\",\n",
       " 'Galaxy Quest (1999)',\n",
       " 'Silence of the Lambs, The (1991)',\n",
       " 'Star Wars: Episode VI - Return of the Jedi (1983)',\n",
       " 'Groundhog Day (1993)',\n",
       " 'Jurassic Park (1993)',\n",
       " 'Sting, The (1973)',\n",
       " 'Moonstruck (1987)',\n",
       " 'Babe (1995)',\n",
       " 'Saving Private Ryan (1998)',\n",
       " 'Big (1988)']"
      ]
     },
     "execution_count": 40,
     "metadata": {},
     "output_type": "execute_result"
    }
   ],
   "source": [
    "[idx_to_movie[i[0]] for i in movie_recommended]"
   ]
  },
  {
   "cell_type": "code",
   "execution_count": 41,
   "id": "ed4dcefd",
   "metadata": {},
   "outputs": [],
   "source": [
    "chicken_run = movie_to_idx['Chicken Run (2000)']\n",
    "explain = als_model.explain(user, csr_data, itemid=chicken_run)"
   ]
  },
  {
   "cell_type": "code",
   "execution_count": 42,
   "id": "4c39b136",
   "metadata": {},
   "outputs": [
    {
     "data": {
      "text/plain": [
       "[(\"Bug's Life, A (1998)\", 0.08182786603508273),\n",
       " ('Toy Story 2 (1999)', 0.06415033030607094),\n",
       " ('Rain Man (1988)', 0.03597723247734952),\n",
       " ('Mummy, The (1999)', 0.01227180362207367),\n",
       " ('Back to the Future (1985)', 0.0004252229850842349)]"
      ]
     },
     "execution_count": 42,
     "metadata": {},
     "output_type": "execute_result"
    }
   ],
   "source": [
    "[(idx_to_movie[i[0]], i[1]) for i in explain[1]]"
   ]
  },
  {
   "cell_type": "markdown",
   "id": "2a13ad34",
   "metadata": {},
   "source": [
    "<ol>\n",
    "<ul> 1. <strong>프로젝트 설명</strong>\n",
    "    <li> Movielens 사이트의 영화 데이터를 바탕으로 좋아하는 영화를 관심 작품을 추천해주는 프로그램을 만드는 프로젝트를 진행하였다. 사용자의 취향에 잘 맞는 영화를 추천하는 것이 목표이다.</li>\n",
    "</ul>\n",
    "<ul> 2. <strong>시도한 것들</strong>\n",
    "    <li> 학습에 사용하는 하이퍼 파라미터를 바꾸어보고 다양한 영화를 활용해보았다.</li>\n",
    "</ul>\n",
    "<ul> 3. <strong>알게된 점</strong>\n",
    "    <li> 추천시스템에서는 사용자와 영화의 벡터 내적값이 1에 가까우면 좋지만, 어떤 값이 나와야 모델이 적절한지에 대한 객관적인 지표는 없다.</li>\n",
    "</ul>\n",
    "<ul> 4. <strong>어려웠던 점</strong>\n",
    "    <li> 영화의 제목에 개봉연도가 포함되어 있고 일부는 The가 뒤쪽에 있어서 전처리를 진행하려고 하였다. 그러나 같은 제목인데 다른 해에 개봉한 영화가 있는 것을 확인하고 전처리를 진행하지 않았다. 데이터셋에 대한 이해가 충분하지 않아 어려움을 겪었다.</li>\n",
    "</ul>\n",
    "<ul> 5. <strong>아쉬운 점</strong>\n",
    "    <li> 추천 결과로 나온 영화 중에 아는 영화가 많지 않아 제대로 추천하고 있는지 확인하기가 쉽지 않았다. 한국 영화를 포함해서 최신 영화를 위주로 추천 프로그램을 만들어보면 좋을 것 같다.</li>\n",
    "</ul>\n",
    "</ol>"
   ]
  },
  {
   "cell_type": "code",
   "execution_count": null,
   "id": "639968d7",
   "metadata": {},
   "outputs": [],
   "source": []
  }
 ],
 "metadata": {
  "kernelspec": {
   "display_name": "Python 3 (ipykernel)",
   "language": "python",
   "name": "python3"
  },
  "language_info": {
   "codemirror_mode": {
    "name": "ipython",
    "version": 3
   },
   "file_extension": ".py",
   "mimetype": "text/x-python",
   "name": "python",
   "nbconvert_exporter": "python",
   "pygments_lexer": "ipython3",
   "version": "3.8.12"
  }
 },
 "nbformat": 4,
 "nbformat_minor": 5
}
