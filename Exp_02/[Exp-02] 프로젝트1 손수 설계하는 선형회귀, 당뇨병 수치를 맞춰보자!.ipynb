{
  "nbformat": 4,
  "nbformat_minor": 0,
  "metadata": {
    "colab": {
      "provenance": []
    },
    "kernelspec": {
      "name": "python3",
      "display_name": "Python 3"
    },
    "language_info": {
      "name": "python"
    }
  },
  "cells": [
    {
      "cell_type": "markdown",
      "source": [
        "(1) 데이터 가져오기"
      ],
      "metadata": {
        "id": "NVmPZk1boYTK"
      }
    },
    {
      "cell_type": "code",
      "source": [
        "!pip install scikit-learn"
      ],
      "metadata": {
        "colab": {
          "base_uri": "https://localhost:8080/"
        },
        "id": "NJT09PAVqveV",
        "outputId": "99aa6200-6d99-4336-fff4-2aa64173710c"
      },
      "execution_count": 1,
      "outputs": [
        {
          "output_type": "stream",
          "name": "stdout",
          "text": [
            "Looking in indexes: https://pypi.org/simple, https://us-python.pkg.dev/colab-wheels/public/simple/\n",
            "Requirement already satisfied: scikit-learn in /usr/local/lib/python3.7/dist-packages (1.0.2)\n",
            "Requirement already satisfied: joblib>=0.11 in /usr/local/lib/python3.7/dist-packages (from scikit-learn) (1.1.0)\n",
            "Requirement already satisfied: numpy>=1.14.6 in /usr/local/lib/python3.7/dist-packages (from scikit-learn) (1.21.6)\n",
            "Requirement already satisfied: threadpoolctl>=2.0.0 in /usr/local/lib/python3.7/dist-packages (from scikit-learn) (3.1.0)\n",
            "Requirement already satisfied: scipy>=1.1.0 in /usr/local/lib/python3.7/dist-packages (from scikit-learn) (1.7.3)\n"
          ]
        }
      ]
    },
    {
      "cell_type": "code",
      "execution_count": 2,
      "metadata": {
        "colab": {
          "base_uri": "https://localhost:8080/"
        },
        "id": "3ixZF8xVnrxH",
        "outputId": "2f515e6d-90f4-4fc5-cde6-5baf3230fb88"
      },
      "outputs": [
        {
          "output_type": "execute_result",
          "data": {
            "text/plain": [
              "{'data':           age       sex       bmi        bp        s1        s2        s3  \\\n",
              " 0    0.038076  0.050680  0.061696  0.021872 -0.044223 -0.034821 -0.043401   \n",
              " 1   -0.001882 -0.044642 -0.051474 -0.026328 -0.008449 -0.019163  0.074412   \n",
              " 2    0.085299  0.050680  0.044451 -0.005671 -0.045599 -0.034194 -0.032356   \n",
              " 3   -0.089063 -0.044642 -0.011595 -0.036656  0.012191  0.024991 -0.036038   \n",
              " 4    0.005383 -0.044642 -0.036385  0.021872  0.003935  0.015596  0.008142   \n",
              " ..        ...       ...       ...       ...       ...       ...       ...   \n",
              " 437  0.041708  0.050680  0.019662  0.059744 -0.005697 -0.002566 -0.028674   \n",
              " 438 -0.005515  0.050680 -0.015906 -0.067642  0.049341  0.079165 -0.028674   \n",
              " 439  0.041708  0.050680 -0.015906  0.017282 -0.037344 -0.013840 -0.024993   \n",
              " 440 -0.045472 -0.044642  0.039062  0.001215  0.016318  0.015283 -0.028674   \n",
              " 441 -0.045472 -0.044642 -0.073030 -0.081414  0.083740  0.027809  0.173816   \n",
              " \n",
              "            s4        s5        s6  \n",
              " 0   -0.002592  0.019908 -0.017646  \n",
              " 1   -0.039493 -0.068330 -0.092204  \n",
              " 2   -0.002592  0.002864 -0.025930  \n",
              " 3    0.034309  0.022692 -0.009362  \n",
              " 4   -0.002592 -0.031991 -0.046641  \n",
              " ..        ...       ...       ...  \n",
              " 437 -0.002592  0.031193  0.007207  \n",
              " 438  0.034309 -0.018118  0.044485  \n",
              " 439 -0.011080 -0.046879  0.015491  \n",
              " 440  0.026560  0.044528 -0.025930  \n",
              " 441 -0.039493 -0.004220  0.003064  \n",
              " \n",
              " [442 rows x 10 columns], 'target': 0      151.0\n",
              " 1       75.0\n",
              " 2      141.0\n",
              " 3      206.0\n",
              " 4      135.0\n",
              "        ...  \n",
              " 437    178.0\n",
              " 438    104.0\n",
              " 439    132.0\n",
              " 440    220.0\n",
              " 441     57.0\n",
              " Name: target, Length: 442, dtype: float64, 'frame':           age       sex       bmi        bp        s1        s2        s3  \\\n",
              " 0    0.038076  0.050680  0.061696  0.021872 -0.044223 -0.034821 -0.043401   \n",
              " 1   -0.001882 -0.044642 -0.051474 -0.026328 -0.008449 -0.019163  0.074412   \n",
              " 2    0.085299  0.050680  0.044451 -0.005671 -0.045599 -0.034194 -0.032356   \n",
              " 3   -0.089063 -0.044642 -0.011595 -0.036656  0.012191  0.024991 -0.036038   \n",
              " 4    0.005383 -0.044642 -0.036385  0.021872  0.003935  0.015596  0.008142   \n",
              " ..        ...       ...       ...       ...       ...       ...       ...   \n",
              " 437  0.041708  0.050680  0.019662  0.059744 -0.005697 -0.002566 -0.028674   \n",
              " 438 -0.005515  0.050680 -0.015906 -0.067642  0.049341  0.079165 -0.028674   \n",
              " 439  0.041708  0.050680 -0.015906  0.017282 -0.037344 -0.013840 -0.024993   \n",
              " 440 -0.045472 -0.044642  0.039062  0.001215  0.016318  0.015283 -0.028674   \n",
              " 441 -0.045472 -0.044642 -0.073030 -0.081414  0.083740  0.027809  0.173816   \n",
              " \n",
              "            s4        s5        s6  target  \n",
              " 0   -0.002592  0.019908 -0.017646   151.0  \n",
              " 1   -0.039493 -0.068330 -0.092204    75.0  \n",
              " 2   -0.002592  0.002864 -0.025930   141.0  \n",
              " 3    0.034309  0.022692 -0.009362   206.0  \n",
              " 4   -0.002592 -0.031991 -0.046641   135.0  \n",
              " ..        ...       ...       ...     ...  \n",
              " 437 -0.002592  0.031193  0.007207   178.0  \n",
              " 438  0.034309 -0.018118  0.044485   104.0  \n",
              " 439 -0.011080 -0.046879  0.015491   132.0  \n",
              " 440  0.026560  0.044528 -0.025930   220.0  \n",
              " 441 -0.039493 -0.004220  0.003064    57.0  \n",
              " \n",
              " [442 rows x 11 columns], 'DESCR': '.. _diabetes_dataset:\\n\\nDiabetes dataset\\n----------------\\n\\nTen baseline variables, age, sex, body mass index, average blood\\npressure, and six blood serum measurements were obtained for each of n =\\n442 diabetes patients, as well as the response of interest, a\\nquantitative measure of disease progression one year after baseline.\\n\\n**Data Set Characteristics:**\\n\\n  :Number of Instances: 442\\n\\n  :Number of Attributes: First 10 columns are numeric predictive values\\n\\n  :Target: Column 11 is a quantitative measure of disease progression one year after baseline\\n\\n  :Attribute Information:\\n      - age     age in years\\n      - sex\\n      - bmi     body mass index\\n      - bp      average blood pressure\\n      - s1      tc, total serum cholesterol\\n      - s2      ldl, low-density lipoproteins\\n      - s3      hdl, high-density lipoproteins\\n      - s4      tch, total cholesterol / HDL\\n      - s5      ltg, possibly log of serum triglycerides level\\n      - s6      glu, blood sugar level\\n\\nNote: Each of these 10 feature variables have been mean centered and scaled by the standard deviation times `n_samples` (i.e. the sum of squares of each column totals 1).\\n\\nSource URL:\\nhttps://www4.stat.ncsu.edu/~boos/var.select/diabetes.html\\n\\nFor more information see:\\nBradley Efron, Trevor Hastie, Iain Johnstone and Robert Tibshirani (2004) \"Least Angle Regression,\" Annals of Statistics (with discussion), 407-499.\\n(https://web.stanford.edu/~hastie/Papers/LARS/LeastAngle_2002.pdf)', 'feature_names': ['age',\n",
              "  'sex',\n",
              "  'bmi',\n",
              "  'bp',\n",
              "  's1',\n",
              "  's2',\n",
              "  's3',\n",
              "  's4',\n",
              "  's5',\n",
              "  's6'], 'data_filename': 'diabetes_data.csv.gz', 'target_filename': 'diabetes_target.csv.gz', 'data_module': 'sklearn.datasets.data'}"
            ]
          },
          "metadata": {},
          "execution_count": 2
        }
      ],
      "source": [
        "from sklearn.datasets import load_diabetes\n",
        "import pandas as pd\n",
        "\n",
        "diabetes = load_diabetes(as_frame=True) # Pandas DataFrame을 사용\n",
        "diabetes"
      ]
    },
    {
      "cell_type": "code",
      "source": [
        "dir(diabetes)"
      ],
      "metadata": {
        "colab": {
          "base_uri": "https://localhost:8080/"
        },
        "id": "8Q6OBcxEVXv9",
        "outputId": "8b2f30b3-1e10-4b69-b8df-ecd343fa53cd"
      },
      "execution_count": 3,
      "outputs": [
        {
          "output_type": "execute_result",
          "data": {
            "text/plain": [
              "['DESCR',\n",
              " 'data',\n",
              " 'data_filename',\n",
              " 'data_module',\n",
              " 'feature_names',\n",
              " 'frame',\n",
              " 'target',\n",
              " 'target_filename']"
            ]
          },
          "metadata": {},
          "execution_count": 3
        }
      ]
    },
    {
      "cell_type": "code",
      "source": [
        "diabetes.data.head()\n",
        "# 모든 값이 실수이므로 원-핫 인코딩 할 필요 없음"
      ],
      "metadata": {
        "colab": {
          "base_uri": "https://localhost:8080/",
          "height": 270
        },
        "id": "wS98u7uouIlQ",
        "outputId": "36022f51-302b-46b4-a792-a7cfecec4e8f"
      },
      "execution_count": 4,
      "outputs": [
        {
          "output_type": "execute_result",
          "data": {
            "text/plain": [
              "        age       sex       bmi        bp        s1        s2        s3  \\\n",
              "0  0.038076  0.050680  0.061696  0.021872 -0.044223 -0.034821 -0.043401   \n",
              "1 -0.001882 -0.044642 -0.051474 -0.026328 -0.008449 -0.019163  0.074412   \n",
              "2  0.085299  0.050680  0.044451 -0.005671 -0.045599 -0.034194 -0.032356   \n",
              "3 -0.089063 -0.044642 -0.011595 -0.036656  0.012191  0.024991 -0.036038   \n",
              "4  0.005383 -0.044642 -0.036385  0.021872  0.003935  0.015596  0.008142   \n",
              "\n",
              "         s4        s5        s6  \n",
              "0 -0.002592  0.019908 -0.017646  \n",
              "1 -0.039493 -0.068330 -0.092204  \n",
              "2 -0.002592  0.002864 -0.025930  \n",
              "3  0.034309  0.022692 -0.009362  \n",
              "4 -0.002592 -0.031991 -0.046641  "
            ],
            "text/html": [
              "\n",
              "  <div id=\"df-6c3c64e4-1f81-459c-b42e-b4e8f3aea986\">\n",
              "    <div class=\"colab-df-container\">\n",
              "      <div>\n",
              "<style scoped>\n",
              "    .dataframe tbody tr th:only-of-type {\n",
              "        vertical-align: middle;\n",
              "    }\n",
              "\n",
              "    .dataframe tbody tr th {\n",
              "        vertical-align: top;\n",
              "    }\n",
              "\n",
              "    .dataframe thead th {\n",
              "        text-align: right;\n",
              "    }\n",
              "</style>\n",
              "<table border=\"1\" class=\"dataframe\">\n",
              "  <thead>\n",
              "    <tr style=\"text-align: right;\">\n",
              "      <th></th>\n",
              "      <th>age</th>\n",
              "      <th>sex</th>\n",
              "      <th>bmi</th>\n",
              "      <th>bp</th>\n",
              "      <th>s1</th>\n",
              "      <th>s2</th>\n",
              "      <th>s3</th>\n",
              "      <th>s4</th>\n",
              "      <th>s5</th>\n",
              "      <th>s6</th>\n",
              "    </tr>\n",
              "  </thead>\n",
              "  <tbody>\n",
              "    <tr>\n",
              "      <th>0</th>\n",
              "      <td>0.038076</td>\n",
              "      <td>0.050680</td>\n",
              "      <td>0.061696</td>\n",
              "      <td>0.021872</td>\n",
              "      <td>-0.044223</td>\n",
              "      <td>-0.034821</td>\n",
              "      <td>-0.043401</td>\n",
              "      <td>-0.002592</td>\n",
              "      <td>0.019908</td>\n",
              "      <td>-0.017646</td>\n",
              "    </tr>\n",
              "    <tr>\n",
              "      <th>1</th>\n",
              "      <td>-0.001882</td>\n",
              "      <td>-0.044642</td>\n",
              "      <td>-0.051474</td>\n",
              "      <td>-0.026328</td>\n",
              "      <td>-0.008449</td>\n",
              "      <td>-0.019163</td>\n",
              "      <td>0.074412</td>\n",
              "      <td>-0.039493</td>\n",
              "      <td>-0.068330</td>\n",
              "      <td>-0.092204</td>\n",
              "    </tr>\n",
              "    <tr>\n",
              "      <th>2</th>\n",
              "      <td>0.085299</td>\n",
              "      <td>0.050680</td>\n",
              "      <td>0.044451</td>\n",
              "      <td>-0.005671</td>\n",
              "      <td>-0.045599</td>\n",
              "      <td>-0.034194</td>\n",
              "      <td>-0.032356</td>\n",
              "      <td>-0.002592</td>\n",
              "      <td>0.002864</td>\n",
              "      <td>-0.025930</td>\n",
              "    </tr>\n",
              "    <tr>\n",
              "      <th>3</th>\n",
              "      <td>-0.089063</td>\n",
              "      <td>-0.044642</td>\n",
              "      <td>-0.011595</td>\n",
              "      <td>-0.036656</td>\n",
              "      <td>0.012191</td>\n",
              "      <td>0.024991</td>\n",
              "      <td>-0.036038</td>\n",
              "      <td>0.034309</td>\n",
              "      <td>0.022692</td>\n",
              "      <td>-0.009362</td>\n",
              "    </tr>\n",
              "    <tr>\n",
              "      <th>4</th>\n",
              "      <td>0.005383</td>\n",
              "      <td>-0.044642</td>\n",
              "      <td>-0.036385</td>\n",
              "      <td>0.021872</td>\n",
              "      <td>0.003935</td>\n",
              "      <td>0.015596</td>\n",
              "      <td>0.008142</td>\n",
              "      <td>-0.002592</td>\n",
              "      <td>-0.031991</td>\n",
              "      <td>-0.046641</td>\n",
              "    </tr>\n",
              "  </tbody>\n",
              "</table>\n",
              "</div>\n",
              "      <button class=\"colab-df-convert\" onclick=\"convertToInteractive('df-6c3c64e4-1f81-459c-b42e-b4e8f3aea986')\"\n",
              "              title=\"Convert this dataframe to an interactive table.\"\n",
              "              style=\"display:none;\">\n",
              "        \n",
              "  <svg xmlns=\"http://www.w3.org/2000/svg\" height=\"24px\"viewBox=\"0 0 24 24\"\n",
              "       width=\"24px\">\n",
              "    <path d=\"M0 0h24v24H0V0z\" fill=\"none\"/>\n",
              "    <path d=\"M18.56 5.44l.94 2.06.94-2.06 2.06-.94-2.06-.94-.94-2.06-.94 2.06-2.06.94zm-11 1L8.5 8.5l.94-2.06 2.06-.94-2.06-.94L8.5 2.5l-.94 2.06-2.06.94zm10 10l.94 2.06.94-2.06 2.06-.94-2.06-.94-.94-2.06-.94 2.06-2.06.94z\"/><path d=\"M17.41 7.96l-1.37-1.37c-.4-.4-.92-.59-1.43-.59-.52 0-1.04.2-1.43.59L10.3 9.45l-7.72 7.72c-.78.78-.78 2.05 0 2.83L4 21.41c.39.39.9.59 1.41.59.51 0 1.02-.2 1.41-.59l7.78-7.78 2.81-2.81c.8-.78.8-2.07 0-2.86zM5.41 20L4 18.59l7.72-7.72 1.47 1.35L5.41 20z\"/>\n",
              "  </svg>\n",
              "      </button>\n",
              "      \n",
              "  <style>\n",
              "    .colab-df-container {\n",
              "      display:flex;\n",
              "      flex-wrap:wrap;\n",
              "      gap: 12px;\n",
              "    }\n",
              "\n",
              "    .colab-df-convert {\n",
              "      background-color: #E8F0FE;\n",
              "      border: none;\n",
              "      border-radius: 50%;\n",
              "      cursor: pointer;\n",
              "      display: none;\n",
              "      fill: #1967D2;\n",
              "      height: 32px;\n",
              "      padding: 0 0 0 0;\n",
              "      width: 32px;\n",
              "    }\n",
              "\n",
              "    .colab-df-convert:hover {\n",
              "      background-color: #E2EBFA;\n",
              "      box-shadow: 0px 1px 2px rgba(60, 64, 67, 0.3), 0px 1px 3px 1px rgba(60, 64, 67, 0.15);\n",
              "      fill: #174EA6;\n",
              "    }\n",
              "\n",
              "    [theme=dark] .colab-df-convert {\n",
              "      background-color: #3B4455;\n",
              "      fill: #D2E3FC;\n",
              "    }\n",
              "\n",
              "    [theme=dark] .colab-df-convert:hover {\n",
              "      background-color: #434B5C;\n",
              "      box-shadow: 0px 1px 3px 1px rgba(0, 0, 0, 0.15);\n",
              "      filter: drop-shadow(0px 1px 2px rgba(0, 0, 0, 0.3));\n",
              "      fill: #FFFFFF;\n",
              "    }\n",
              "  </style>\n",
              "\n",
              "      <script>\n",
              "        const buttonEl =\n",
              "          document.querySelector('#df-6c3c64e4-1f81-459c-b42e-b4e8f3aea986 button.colab-df-convert');\n",
              "        buttonEl.style.display =\n",
              "          google.colab.kernel.accessAllowed ? 'block' : 'none';\n",
              "\n",
              "        async function convertToInteractive(key) {\n",
              "          const element = document.querySelector('#df-6c3c64e4-1f81-459c-b42e-b4e8f3aea986');\n",
              "          const dataTable =\n",
              "            await google.colab.kernel.invokeFunction('convertToInteractive',\n",
              "                                                     [key], {});\n",
              "          if (!dataTable) return;\n",
              "\n",
              "          const docLinkHtml = 'Like what you see? Visit the ' +\n",
              "            '<a target=\"_blank\" href=https://colab.research.google.com/notebooks/data_table.ipynb>data table notebook</a>'\n",
              "            + ' to learn more about interactive tables.';\n",
              "          element.innerHTML = '';\n",
              "          dataTable['output_type'] = 'display_data';\n",
              "          await google.colab.output.renderOutput(dataTable, element);\n",
              "          const docLink = document.createElement('div');\n",
              "          docLink.innerHTML = docLinkHtml;\n",
              "          element.appendChild(docLink);\n",
              "        }\n",
              "      </script>\n",
              "    </div>\n",
              "  </div>\n",
              "  "
            ]
          },
          "metadata": {},
          "execution_count": 4
        }
      ]
    },
    {
      "cell_type": "code",
      "source": [
        "diabetes.feature_names"
      ],
      "metadata": {
        "colab": {
          "base_uri": "https://localhost:8080/"
        },
        "id": "9G1N-SXzuOgi",
        "outputId": "31659d1d-4859-4f22-8d8c-b18671485051"
      },
      "execution_count": 5,
      "outputs": [
        {
          "output_type": "execute_result",
          "data": {
            "text/plain": [
              "['age', 'sex', 'bmi', 'bp', 's1', 's2', 's3', 's4', 's5', 's6']"
            ]
          },
          "metadata": {},
          "execution_count": 5
        }
      ]
    },
    {
      "cell_type": "code",
      "source": [
        "diabetes.target"
      ],
      "metadata": {
        "colab": {
          "base_uri": "https://localhost:8080/"
        },
        "id": "kiMNJ69UVsaI",
        "outputId": "ba4d3e27-05c5-4fc4-c56c-8b3c71c181dd"
      },
      "execution_count": 6,
      "outputs": [
        {
          "output_type": "execute_result",
          "data": {
            "text/plain": [
              "0      151.0\n",
              "1       75.0\n",
              "2      141.0\n",
              "3      206.0\n",
              "4      135.0\n",
              "       ...  \n",
              "437    178.0\n",
              "438    104.0\n",
              "439    132.0\n",
              "440    220.0\n",
              "441     57.0\n",
              "Name: target, Length: 442, dtype: float64"
            ]
          },
          "metadata": {},
          "execution_count": 6
        }
      ]
    },
    {
      "cell_type": "code",
      "source": [
        "df_X = diabetes.data\n",
        "df_y = diabetes.target\n",
        "print(df_X.shape)\n",
        "print(df_y.shape)"
      ],
      "metadata": {
        "colab": {
          "base_uri": "https://localhost:8080/"
        },
        "id": "dtiWv9y6tnuh",
        "outputId": "9b5acdba-45b0-43c6-aa21-c5103ccf9c3b"
      },
      "execution_count": 7,
      "outputs": [
        {
          "output_type": "stream",
          "name": "stdout",
          "text": [
            "(442, 10)\n",
            "(442,)\n"
          ]
        }
      ]
    },
    {
      "cell_type": "markdown",
      "source": [
        "(2) 모델에 입력할 데이터 X 준비하기"
      ],
      "metadata": {
        "id": "_GL94Gk2obmQ"
      }
    },
    {
      "cell_type": "code",
      "source": [
        "import numpy as np\n",
        "\n",
        "X = np.array(df_X)\n",
        "X"
      ],
      "metadata": {
        "colab": {
          "base_uri": "https://localhost:8080/"
        },
        "id": "BccAUNLPn2YF",
        "outputId": "291c43db-2049-4d87-9e10-7aec71623c96"
      },
      "execution_count": 8,
      "outputs": [
        {
          "output_type": "execute_result",
          "data": {
            "text/plain": [
              "array([[ 0.03807591,  0.05068012,  0.06169621, ..., -0.00259226,\n",
              "         0.01990842, -0.01764613],\n",
              "       [-0.00188202, -0.04464164, -0.05147406, ..., -0.03949338,\n",
              "        -0.06832974, -0.09220405],\n",
              "       [ 0.08529891,  0.05068012,  0.04445121, ..., -0.00259226,\n",
              "         0.00286377, -0.02593034],\n",
              "       ...,\n",
              "       [ 0.04170844,  0.05068012, -0.01590626, ..., -0.01107952,\n",
              "        -0.04687948,  0.01549073],\n",
              "       [-0.04547248, -0.04464164,  0.03906215, ...,  0.02655962,\n",
              "         0.04452837, -0.02593034],\n",
              "       [-0.04547248, -0.04464164, -0.0730303 , ..., -0.03949338,\n",
              "        -0.00421986,  0.00306441]])"
            ]
          },
          "metadata": {},
          "execution_count": 8
        }
      ]
    },
    {
      "cell_type": "markdown",
      "source": [
        "(3) 모델에 예측할 데이터 y 준비하기"
      ],
      "metadata": {
        "id": "F5hEKssQpHkb"
      }
    },
    {
      "cell_type": "code",
      "source": [
        "y = np.array(df_y)\n",
        "y"
      ],
      "metadata": {
        "colab": {
          "base_uri": "https://localhost:8080/"
        },
        "id": "prP2BI6jobaC",
        "outputId": "9af346c6-05cd-45d8-913f-7f4a0df17ad2"
      },
      "execution_count": 9,
      "outputs": [
        {
          "output_type": "execute_result",
          "data": {
            "text/plain": [
              "array([151.,  75., 141., 206., 135.,  97., 138.,  63., 110., 310., 101.,\n",
              "        69., 179., 185., 118., 171., 166., 144.,  97., 168.,  68.,  49.,\n",
              "        68., 245., 184., 202., 137.,  85., 131., 283., 129.,  59., 341.,\n",
              "        87.,  65., 102., 265., 276., 252.,  90., 100.,  55.,  61.,  92.,\n",
              "       259.,  53., 190., 142.,  75., 142., 155., 225.,  59., 104., 182.,\n",
              "       128.,  52.,  37., 170., 170.,  61., 144.,  52., 128.,  71., 163.,\n",
              "       150.,  97., 160., 178.,  48., 270., 202., 111.,  85.,  42., 170.,\n",
              "       200., 252., 113., 143.,  51.,  52., 210.,  65., 141.,  55., 134.,\n",
              "        42., 111.,  98., 164.,  48.,  96.,  90., 162., 150., 279.,  92.,\n",
              "        83., 128., 102., 302., 198.,  95.,  53., 134., 144., 232.,  81.,\n",
              "       104.,  59., 246., 297., 258., 229., 275., 281., 179., 200., 200.,\n",
              "       173., 180.,  84., 121., 161.,  99., 109., 115., 268., 274., 158.,\n",
              "       107.,  83., 103., 272.,  85., 280., 336., 281., 118., 317., 235.,\n",
              "        60., 174., 259., 178., 128.,  96., 126., 288.,  88., 292.,  71.,\n",
              "       197., 186.,  25.,  84.,  96., 195.,  53., 217., 172., 131., 214.,\n",
              "        59.,  70., 220., 268., 152.,  47.,  74., 295., 101., 151., 127.,\n",
              "       237., 225.,  81., 151., 107.,  64., 138., 185., 265., 101., 137.,\n",
              "       143., 141.,  79., 292., 178.,  91., 116.,  86., 122.,  72., 129.,\n",
              "       142.,  90., 158.,  39., 196., 222., 277.,  99., 196., 202., 155.,\n",
              "        77., 191.,  70.,  73.,  49.,  65., 263., 248., 296., 214., 185.,\n",
              "        78.,  93., 252., 150.,  77., 208.,  77., 108., 160.,  53., 220.,\n",
              "       154., 259.,  90., 246., 124.,  67.,  72., 257., 262., 275., 177.,\n",
              "        71.,  47., 187., 125.,  78.,  51., 258., 215., 303., 243.,  91.,\n",
              "       150., 310., 153., 346.,  63.,  89.,  50.,  39., 103., 308., 116.,\n",
              "       145.,  74.,  45., 115., 264.,  87., 202., 127., 182., 241.,  66.,\n",
              "        94., 283.,  64., 102., 200., 265.,  94., 230., 181., 156., 233.,\n",
              "        60., 219.,  80.,  68., 332., 248.,  84., 200.,  55.,  85.,  89.,\n",
              "        31., 129.,  83., 275.,  65., 198., 236., 253., 124.,  44., 172.,\n",
              "       114., 142., 109., 180., 144., 163., 147.,  97., 220., 190., 109.,\n",
              "       191., 122., 230., 242., 248., 249., 192., 131., 237.,  78., 135.,\n",
              "       244., 199., 270., 164.,  72.,  96., 306.,  91., 214.,  95., 216.,\n",
              "       263., 178., 113., 200., 139., 139.,  88., 148.,  88., 243.,  71.,\n",
              "        77., 109., 272.,  60.,  54., 221.,  90., 311., 281., 182., 321.,\n",
              "        58., 262., 206., 233., 242., 123., 167.,  63., 197.,  71., 168.,\n",
              "       140., 217., 121., 235., 245.,  40.,  52., 104., 132.,  88.,  69.,\n",
              "       219.,  72., 201., 110.,  51., 277.,  63., 118.,  69., 273., 258.,\n",
              "        43., 198., 242., 232., 175.,  93., 168., 275., 293., 281.,  72.,\n",
              "       140., 189., 181., 209., 136., 261., 113., 131., 174., 257.,  55.,\n",
              "        84.,  42., 146., 212., 233.,  91., 111., 152., 120.,  67., 310.,\n",
              "        94., 183.,  66., 173.,  72.,  49.,  64.,  48., 178., 104., 132.,\n",
              "       220.,  57.])"
            ]
          },
          "metadata": {},
          "execution_count": 9
        }
      ]
    },
    {
      "cell_type": "markdown",
      "source": [
        "(4) train 데이터와 test 데이터로 분리하기"
      ],
      "metadata": {
        "id": "KYbgNrrNpJ3C"
      }
    },
    {
      "cell_type": "code",
      "source": [
        "from sklearn.model_selection import train_test_split\n",
        "\n",
        "X_train, X_test, y_train, y_test = train_test_split(X, y, test_size=0.2, random_state=7)"
      ],
      "metadata": {
        "id": "9Jieh_popEIX"
      },
      "execution_count": 10,
      "outputs": []
    },
    {
      "cell_type": "code",
      "source": [
        "print(X_train.shape, y_train.shape)\n",
        "print(X_test.shape, y_test.shape)"
      ],
      "metadata": {
        "colab": {
          "base_uri": "https://localhost:8080/"
        },
        "id": "7-YLLZLA4c_p",
        "outputId": "67d77210-4e09-48e2-ef2c-cfc66f38c8d9"
      },
      "execution_count": 11,
      "outputs": [
        {
          "output_type": "stream",
          "name": "stdout",
          "text": [
            "(353, 10) (353,)\n",
            "(89, 10) (89,)\n"
          ]
        }
      ]
    },
    {
      "cell_type": "markdown",
      "source": [
        "(5) 모델 준비하기"
      ],
      "metadata": {
        "id": "ibu_d5xYrX5v"
      }
    },
    {
      "cell_type": "code",
      "source": [
        "W = np.random.rand(10)\n",
        "b = np.random.rand()"
      ],
      "metadata": {
        "id": "_pl9RoR7wAKr"
      },
      "execution_count": 12,
      "outputs": []
    },
    {
      "cell_type": "code",
      "source": [
        "def model(X, W, b):\n",
        "  predictions = 0\n",
        "  for i in range(9):\n",
        "    predictions += X[:,i]*W[i]\n",
        "  predictions += b\n",
        "  return predictions"
      ],
      "metadata": {
        "id": "JyZdYWg_rWKA"
      },
      "execution_count": 67,
      "outputs": []
    },
    {
      "cell_type": "markdown",
      "source": [
        "(6) 손실함수 loss 정의하기"
      ],
      "metadata": {
        "id": "_9dc-XiZrbGc"
      }
    },
    {
      "cell_type": "code",
      "source": [
        "def MSE(a, b):\n",
        "  mse = ((a - b) ** 2).mean()\n",
        "  return mse"
      ],
      "metadata": {
        "id": "40b6RJ3RvUH_"
      },
      "execution_count": 68,
      "outputs": []
    },
    {
      "cell_type": "code",
      "source": [
        "def loss(X, W, b, y):\n",
        "  predictions = model(X, W, b)\n",
        "  L = MSE(predictions, y)\n",
        "  return L"
      ],
      "metadata": {
        "id": "dOoojftxYxGb"
      },
      "execution_count": 69,
      "outputs": []
    },
    {
      "cell_type": "markdown",
      "source": [
        "(7) 기울기를 구하는 gradient 함수 구현하기"
      ],
      "metadata": {
        "id": "Dv5Uwcw2rf7y"
      }
    },
    {
      "cell_type": "code",
      "source": [
        "def gradient(X, W, b, y):\n",
        "  N = len(W)\n",
        "  y_pred = model(X, W, b)\n",
        "  dW = 1/N * (2 * np.dot(X.T, (y_pred - y)))\n",
        "  db = 2 * (y_pred - y).mean()\n",
        "  # print(dW, db)\n",
        "  return dW, db"
      ],
      "metadata": {
        "id": "EzLCl0PCvrYm"
      },
      "execution_count": 70,
      "outputs": []
    },
    {
      "cell_type": "markdown",
      "source": [
        "(8) 하이퍼 파라미터인 학습률 설정하기"
      ],
      "metadata": {
        "id": "iDWWk8iFrkrn"
      }
    },
    {
      "cell_type": "code",
      "source": [
        "LEARNING_RATE = 0.01"
      ],
      "metadata": {
        "id": "ujYCLvxovsAW"
      },
      "execution_count": 80,
      "outputs": []
    },
    {
      "cell_type": "markdown",
      "source": [
        "(9) 모델 학습하기"
      ],
      "metadata": {
        "id": "0Od1tCsnro5t"
      }
    },
    {
      "cell_type": "code",
      "source": [
        "type(X_train)"
      ],
      "metadata": {
        "colab": {
          "base_uri": "https://localhost:8080/"
        },
        "id": "7D2pQRr3uP_Y",
        "outputId": "85deed0c-bcbf-4921-f52c-70fa27544239"
      },
      "execution_count": 81,
      "outputs": [
        {
          "output_type": "execute_result",
          "data": {
            "text/plain": [
              "numpy.ndarray"
            ]
          },
          "metadata": {},
          "execution_count": 81
        }
      ]
    },
    {
      "cell_type": "code",
      "source": [
        "X_train.shape"
      ],
      "metadata": {
        "colab": {
          "base_uri": "https://localhost:8080/"
        },
        "id": "RedGwKNf6aRt",
        "outputId": "80aa962a-8c20-48b2-e270-23deb277b724"
      },
      "execution_count": 82,
      "outputs": [
        {
          "output_type": "execute_result",
          "data": {
            "text/plain": [
              "(353, 10)"
            ]
          },
          "metadata": {},
          "execution_count": 82
        }
      ]
    },
    {
      "cell_type": "code",
      "source": [
        "W"
      ],
      "metadata": {
        "colab": {
          "base_uri": "https://localhost:8080/"
        },
        "id": "lKP6neLp6u3p",
        "outputId": "9fdcdcba-28cf-4d18-f2e0-2bd88129df0f"
      },
      "execution_count": 83,
      "outputs": [
        {
          "output_type": "execute_result",
          "data": {
            "text/plain": [
              "array([-2041.5187665 , -1742.70466279,  2411.94506907,  1367.73841619,\n",
              "        -711.49599439, -1121.09998714,  -452.26978059,   -60.9769583 ,\n",
              "        2066.65638424,  1766.41844946])"
            ]
          },
          "metadata": {},
          "execution_count": 83
        }
      ]
    },
    {
      "cell_type": "code",
      "source": [
        "b"
      ],
      "metadata": {
        "colab": {
          "base_uri": "https://localhost:8080/"
        },
        "id": "5iKMMDgz62PA",
        "outputId": "32d7afb0-7e93-42f2-c0f7-1158f6684363"
      },
      "execution_count": 84,
      "outputs": [
        {
          "output_type": "execute_result",
          "data": {
            "text/plain": [
              "155.42039819895012"
            ]
          },
          "metadata": {},
          "execution_count": 84
        }
      ]
    },
    {
      "cell_type": "code",
      "source": [
        "losses = []\n",
        "\n",
        "for i in range(1, 10001):\n",
        "    dW, db = gradient(X_train, W, b, y_train)\n",
        "    W -= LEARNING_RATE * dW\n",
        "    b -= LEARNING_RATE * db\n",
        "    L = loss(X_train, W, b, y_train)\n",
        "    losses.append(L)\n",
        "    if i % 100 == 0:\n",
        "        print('Iteration %d : Loss %0.4f' % (i, L))"
      ],
      "metadata": {
        "colab": {
          "base_uri": "https://localhost:8080/"
        },
        "id": "jjjLf_0mSLVr",
        "outputId": "dd69e545-774c-43ec-a3e9-113ca972c088"
      },
      "execution_count": 85,
      "outputs": [
        {
          "output_type": "stream",
          "name": "stdout",
          "text": [
            "Iteration 100 : Loss 24933.1802\n",
            "Iteration 200 : Loss 19288.4646\n",
            "Iteration 300 : Loss 15131.9550\n",
            "Iteration 400 : Loss 12058.4616\n",
            "Iteration 500 : Loss 9777.4775\n",
            "Iteration 600 : Loss 8078.9674\n",
            "Iteration 700 : Loss 6810.1892\n",
            "Iteration 800 : Loss 5859.5512\n",
            "Iteration 900 : Loss 5145.1993\n",
            "Iteration 1000 : Loss 4606.8758\n",
            "Iteration 1100 : Loss 4200.0730\n",
            "Iteration 1200 : Loss 3891.8132\n",
            "Iteration 1300 : Loss 3657.5896\n",
            "Iteration 1400 : Loss 3479.1384\n",
            "Iteration 1500 : Loss 3342.8116\n",
            "Iteration 1600 : Loss 3238.3837\n",
            "Iteration 1700 : Loss 3158.1738\n",
            "Iteration 1800 : Loss 3096.3975\n",
            "Iteration 1900 : Loss 3048.6884\n",
            "Iteration 2000 : Loss 3011.7419\n",
            "Iteration 2100 : Loss 2983.0512\n",
            "Iteration 2200 : Loss 2960.7097\n",
            "Iteration 2300 : Loss 2943.2640\n",
            "Iteration 2400 : Loss 2929.6031\n",
            "Iteration 2500 : Loss 2918.8761\n",
            "Iteration 2600 : Loss 2910.4290\n",
            "Iteration 2700 : Loss 2903.7584\n",
            "Iteration 2800 : Loss 2898.4757\n",
            "Iteration 2900 : Loss 2894.2799\n",
            "Iteration 3000 : Loss 2890.9377\n",
            "Iteration 3100 : Loss 2888.2673\n",
            "Iteration 3200 : Loss 2886.1270\n",
            "Iteration 3300 : Loss 2884.4060\n",
            "Iteration 3400 : Loss 2883.0175\n",
            "Iteration 3500 : Loss 2881.8931\n",
            "Iteration 3600 : Loss 2880.9791\n",
            "Iteration 3700 : Loss 2880.2331\n",
            "Iteration 3800 : Loss 2879.6212\n",
            "Iteration 3900 : Loss 2879.1170\n",
            "Iteration 4000 : Loss 2878.6991\n",
            "Iteration 4100 : Loss 2878.3506\n",
            "Iteration 4200 : Loss 2878.0581\n",
            "Iteration 4300 : Loss 2877.8108\n",
            "Iteration 4400 : Loss 2877.6000\n",
            "Iteration 4500 : Loss 2877.4187\n",
            "Iteration 4600 : Loss 2877.2614\n",
            "Iteration 4700 : Loss 2877.1235\n",
            "Iteration 4800 : Loss 2877.0015\n",
            "Iteration 4900 : Loss 2876.8923\n",
            "Iteration 5000 : Loss 2876.7937\n",
            "Iteration 5100 : Loss 2876.7036\n",
            "Iteration 5200 : Loss 2876.6206\n",
            "Iteration 5300 : Loss 2876.5434\n",
            "Iteration 5400 : Loss 2876.4709\n",
            "Iteration 5500 : Loss 2876.4022\n",
            "Iteration 5600 : Loss 2876.3368\n",
            "Iteration 5700 : Loss 2876.2741\n",
            "Iteration 5800 : Loss 2876.2135\n",
            "Iteration 5900 : Loss 2876.1548\n",
            "Iteration 6000 : Loss 2876.0977\n",
            "Iteration 6100 : Loss 2876.0418\n",
            "Iteration 6200 : Loss 2875.9869\n",
            "Iteration 6300 : Loss 2875.9330\n",
            "Iteration 6400 : Loss 2875.8799\n",
            "Iteration 6500 : Loss 2875.8274\n",
            "Iteration 6600 : Loss 2875.7755\n",
            "Iteration 6700 : Loss 2875.7241\n",
            "Iteration 6800 : Loss 2875.6732\n",
            "Iteration 6900 : Loss 2875.6226\n",
            "Iteration 7000 : Loss 2875.5723\n",
            "Iteration 7100 : Loss 2875.5224\n",
            "Iteration 7200 : Loss 2875.4728\n",
            "Iteration 7300 : Loss 2875.4234\n",
            "Iteration 7400 : Loss 2875.3742\n",
            "Iteration 7500 : Loss 2875.3252\n",
            "Iteration 7600 : Loss 2875.2765\n",
            "Iteration 7700 : Loss 2875.2280\n",
            "Iteration 7800 : Loss 2875.1796\n",
            "Iteration 7900 : Loss 2875.1314\n",
            "Iteration 8000 : Loss 2875.0834\n",
            "Iteration 8100 : Loss 2875.0356\n",
            "Iteration 8200 : Loss 2874.9879\n",
            "Iteration 8300 : Loss 2874.9403\n",
            "Iteration 8400 : Loss 2874.8930\n",
            "Iteration 8500 : Loss 2874.8457\n",
            "Iteration 8600 : Loss 2874.7987\n",
            "Iteration 8700 : Loss 2874.7517\n",
            "Iteration 8800 : Loss 2874.7049\n",
            "Iteration 8900 : Loss 2874.6583\n",
            "Iteration 9000 : Loss 2874.6118\n",
            "Iteration 9100 : Loss 2874.5654\n",
            "Iteration 9200 : Loss 2874.5191\n",
            "Iteration 9300 : Loss 2874.4730\n",
            "Iteration 9400 : Loss 2874.4271\n",
            "Iteration 9500 : Loss 2874.3813\n",
            "Iteration 9600 : Loss 2874.3356\n",
            "Iteration 9700 : Loss 2874.2900\n",
            "Iteration 9800 : Loss 2874.2446\n",
            "Iteration 9900 : Loss 2874.1993\n",
            "Iteration 10000 : Loss 2874.1541\n"
          ]
        }
      ]
    },
    {
      "cell_type": "code",
      "source": [
        "import matplotlib.pyplot as plt\n",
        "plt.plot(losses)\n",
        "plt.show()"
      ],
      "metadata": {
        "colab": {
          "base_uri": "https://localhost:8080/",
          "height": 265
        },
        "id": "4x8uM3qnSYEd",
        "outputId": "8ad104b8-979f-4c47-e15d-1f54acbc9b05"
      },
      "execution_count": 86,
      "outputs": [
        {
          "output_type": "display_data",
          "data": {
            "text/plain": [
              "<Figure size 432x288 with 1 Axes>"
            ],
            "image/png": "[encoded data removed]"
          },
          "metadata": {
            "needs_background": "light"
          }
        }
      ]
    },
    {
      "cell_type": "markdown",
      "source": [
        "(10) test 데이터에 대한 성능 확인하기"
      ],
      "metadata": {
        "id": "Z8yM1k1ZZXy3"
      }
    },
    {
      "cell_type": "code",
      "source": [
        "prediction = model(X_test, W, b)\n",
        "mse = loss(X_test, W, b, y_test)\n",
        "mse"
      ],
      "metadata": {
        "colab": {
          "base_uri": "https://localhost:8080/"
        },
        "id": "E96XQtETIGQl",
        "outputId": "ca959f4a-3dce-4f6f-9eca-97aca46694d9"
      },
      "execution_count": 87,
      "outputs": [
        {
          "output_type": "execute_result",
          "data": {
            "text/plain": [
              "2945.5568409343023"
            ]
          },
          "metadata": {},
          "execution_count": 87
        }
      ]
    },
    {
      "cell_type": "markdown",
      "source": [
        "(11) 정답 데이터와 예측한 데이터 시각화하기"
      ],
      "metadata": {
        "id": "BgrgeDg2rrOH"
      }
    },
    {
      "cell_type": "code",
      "source": [
        "plt.scatter(X_test[:, 0], y_test, label='real data')\n",
        "plt.scatter(X_test[:, 0], prediction, label='predicted')\n",
        "plt.legend()\n",
        "plt.show()"
      ],
      "metadata": {
        "id": "B5z2Dj8kpDOb",
        "colab": {
          "base_uri": "https://localhost:8080/",
          "height": 269
        },
        "outputId": "90d50d41-e1c0-422b-a6cf-691d2e3a4a08"
      },
      "execution_count": 89,
      "outputs": [
        {
          "output_type": "display_data",
          "data": {
            "text/plain": [
              "<Figure size 432x288 with 1 Axes>"
            ],
            "image/png": "[encoded data removed]"
          },
          "metadata": {
            "needs_background": "light"
          }
        }
      ]
    },
    {
      "cell_type": "code",
      "source": [],
      "metadata": {
        "id": "ETiaTPvn4qDo"
      },
      "execution_count": null,
      "outputs": []
    }
  ]
}